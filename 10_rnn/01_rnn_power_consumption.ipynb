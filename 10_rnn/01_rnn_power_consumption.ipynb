{
 "cells": [
  {
   "cell_type": "markdown",
   "id": "67d48afb",
   "metadata": {},
   "source": [
    "# Imports"
   ]
  },
  {
   "cell_type": "code",
   "execution_count": 2,
   "id": "3061621d",
   "metadata": {},
   "outputs": [],
   "source": [
    "import matplotlib.pyplot as plt\n",
    "import numpy as np\n",
    "import pandas as pd\n",
    "import tensorflow as tf\n",
    "from sklearn.metrics import mean_squared_error\n",
    "from sklearn.preprocessing import StandardScaler\n",
    "keras = tf.keras"
   ]
  },
  {
   "cell_type": "markdown",
   "id": "9d987ee1",
   "metadata": {},
   "source": [
    "***\n",
    "# Data preparation\n",
    "\n",
    "## Loading the data"
   ]
  },
  {
   "cell_type": "code",
   "execution_count": 50,
   "id": "8fae1daa",
   "metadata": {},
   "outputs": [],
   "source": [
    "df = pd.read_csv(\n",
    "    '../data/PowerConsumption_DE.csv',\n",
    "    parse_dates=['start', 'end'],\n",
    ")\n",
    "df = df.set_index('start')"
   ]
  },
  {
   "cell_type": "markdown",
   "id": "e85e3062",
   "metadata": {},
   "source": [
    "## Turn dates into datetimes"
   ]
  },
  {
   "cell_type": "code",
   "execution_count": null,
   "id": "73fb116f",
   "metadata": {},
   "outputs": [],
   "source": []
  },
  {
   "cell_type": "markdown",
   "id": "49c474aa",
   "metadata": {},
   "source": [
    "## Turn hourly data into daily sums\n",
    "Google is your best friend if you do not know how to do this ;)"
   ]
  },
  {
   "cell_type": "code",
   "execution_count": 51,
   "id": "e1b77bf9",
   "metadata": {},
   "outputs": [
    {
     "data": {
      "text/html": [
       "<div>\n",
       "<style scoped>\n",
       "    .dataframe tbody tr th:only-of-type {\n",
       "        vertical-align: middle;\n",
       "    }\n",
       "\n",
       "    .dataframe tbody tr th {\n",
       "        vertical-align: top;\n",
       "    }\n",
       "\n",
       "    .dataframe thead th {\n",
       "        text-align: right;\n",
       "    }\n",
       "</style>\n",
       "<table border=\"1\" class=\"dataframe\">\n",
       "  <thead>\n",
       "    <tr style=\"text-align: right;\">\n",
       "      <th></th>\n",
       "      <th>load</th>\n",
       "    </tr>\n",
       "    <tr>\n",
       "      <th>start</th>\n",
       "      <th></th>\n",
       "    </tr>\n",
       "  </thead>\n",
       "  <tbody>\n",
       "    <tr>\n",
       "      <th>2015-01-01 00:00:00+00:00</th>\n",
       "      <td>4354040.0</td>\n",
       "    </tr>\n",
       "    <tr>\n",
       "      <th>2015-01-02 00:00:00+00:00</th>\n",
       "      <td>4986348.0</td>\n",
       "    </tr>\n",
       "    <tr>\n",
       "      <th>2015-01-03 00:00:00+00:00</th>\n",
       "      <td>4470214.0</td>\n",
       "    </tr>\n",
       "    <tr>\n",
       "      <th>2015-01-04 00:00:00+00:00</th>\n",
       "      <td>4327920.0</td>\n",
       "    </tr>\n",
       "    <tr>\n",
       "      <th>2015-01-05 00:00:00+00:00</th>\n",
       "      <td>5303683.0</td>\n",
       "    </tr>\n",
       "  </tbody>\n",
       "</table>\n",
       "</div>"
      ],
      "text/plain": [
       "                                load\n",
       "start                               \n",
       "2015-01-01 00:00:00+00:00  4354040.0\n",
       "2015-01-02 00:00:00+00:00  4986348.0\n",
       "2015-01-03 00:00:00+00:00  4470214.0\n",
       "2015-01-04 00:00:00+00:00  4327920.0\n",
       "2015-01-05 00:00:00+00:00  5303683.0"
      ]
     },
     "execution_count": 51,
     "metadata": {},
     "output_type": "execute_result"
    }
   ],
   "source": [
    "df_agg = df.resample(rule='1D').sum()\n",
    "df_agg.head()"
   ]
  },
  {
   "cell_type": "markdown",
   "id": "37c52126",
   "metadata": {},
   "source": [
    "## Scale the data"
   ]
  },
  {
   "cell_type": "code",
   "execution_count": 52,
   "id": "87775829",
   "metadata": {},
   "outputs": [
    {
     "data": {
      "text/html": [
       "<div>\n",
       "<style scoped>\n",
       "    .dataframe tbody tr th:only-of-type {\n",
       "        vertical-align: middle;\n",
       "    }\n",
       "\n",
       "    .dataframe tbody tr th {\n",
       "        vertical-align: top;\n",
       "    }\n",
       "\n",
       "    .dataframe thead th {\n",
       "        text-align: right;\n",
       "    }\n",
       "</style>\n",
       "<table border=\"1\" class=\"dataframe\">\n",
       "  <thead>\n",
       "    <tr style=\"text-align: right;\">\n",
       "      <th></th>\n",
       "      <th>0</th>\n",
       "    </tr>\n",
       "  </thead>\n",
       "  <tbody>\n",
       "    <tr>\n",
       "      <th>count</th>\n",
       "      <td>2.070000e+03</td>\n",
       "    </tr>\n",
       "    <tr>\n",
       "      <th>mean</th>\n",
       "      <td>-4.466636e-16</td>\n",
       "    </tr>\n",
       "    <tr>\n",
       "      <th>std</th>\n",
       "      <td>1.000242e+00</td>\n",
       "    </tr>\n",
       "    <tr>\n",
       "      <th>min</th>\n",
       "      <td>-2.501709e+00</td>\n",
       "    </tr>\n",
       "    <tr>\n",
       "      <th>25%</th>\n",
       "      <td>-7.686930e-01</td>\n",
       "    </tr>\n",
       "    <tr>\n",
       "      <th>50%</th>\n",
       "      <td>2.024746e-01</td>\n",
       "    </tr>\n",
       "    <tr>\n",
       "      <th>75%</th>\n",
       "      <td>7.550961e-01</td>\n",
       "    </tr>\n",
       "    <tr>\n",
       "      <th>max</th>\n",
       "      <td>1.913088e+00</td>\n",
       "    </tr>\n",
       "  </tbody>\n",
       "</table>\n",
       "</div>"
      ],
      "text/plain": [
       "                  0\n",
       "count  2.070000e+03\n",
       "mean  -4.466636e-16\n",
       "std    1.000242e+00\n",
       "min   -2.501709e+00\n",
       "25%   -7.686930e-01\n",
       "50%    2.024746e-01\n",
       "75%    7.550961e-01\n",
       "max    1.913088e+00"
      ]
     },
     "execution_count": 52,
     "metadata": {},
     "output_type": "execute_result"
    }
   ],
   "source": [
    "scaler = StandardScaler()\n",
    "scaler = scaler.fit(df_agg)\n",
    "scaled_train_df = scaler.transform(df_agg)\n",
    "pd.DataFrame(scaled_train_df).describe()"
   ]
  },
  {
   "cell_type": "markdown",
   "id": "1c1307ef",
   "metadata": {},
   "source": [
    "## Create X and Y data"
   ]
  },
  {
   "cell_type": "code",
   "execution_count": 31,
   "id": "273a787a",
   "metadata": {},
   "outputs": [],
   "source": [
    "train_x_list = []\n",
    "train_y_list = []\n",
    "\n",
    "N_FUTURE = 1\n",
    "N_PAST = 15\n",
    "\n",
    "# we can only start at 15 so we have a full window, the last one must be 1\n",
    "# window before the end\n",
    "for i in range(N_PAST, len(scaled_train_df) - N_FUTURE + 1):\n",
    "    # slice and append a moving window of 15\n",
    "    train_x_list.append(scaled_train_df[i - N_PAST:i])\n",
    "    # slice to next day (result we want to predict)\n",
    "    train_y_list.append(scaled_train_df[i + N_FUTURE - 1:i + N_FUTURE, 0])"
   ]
  },
  {
   "cell_type": "code",
   "execution_count": 34,
   "id": "65c0b970",
   "metadata": {},
   "outputs": [
    {
     "name": "stdout",
     "output_type": "stream",
     "text": [
      "(2055, 15, 1)\n",
      "(2055, 1)\n"
     ]
    }
   ],
   "source": [
    "train_x = np.array(train_x_list)\n",
    "train_y = np.array(train_y_list)\n",
    "print(train_x.shape)\n",
    "print(train_y.shape)"
   ]
  },
  {
   "cell_type": "markdown",
   "id": "8be61a8c",
   "metadata": {},
   "source": [
    "***\n",
    "# Built and train the model"
   ]
  },
  {
   "cell_type": "code",
   "execution_count": 35,
   "id": "ec6d5b94",
   "metadata": {},
   "outputs": [
    {
     "name": "stdout",
     "output_type": "stream",
     "text": [
      "Model: \"sequential\"\n",
      "_________________________________________________________________\n",
      " Layer (type)                Output Shape              Param #   \n",
      "=================================================================\n",
      " lstm (LSTM)                 (None, 15, 64)            16896     \n",
      "                                                                 \n",
      " lstm_1 (LSTM)               (None, 32)                12416     \n",
      "                                                                 \n",
      " dropout (Dropout)           (None, 32)                0         \n",
      "                                                                 \n",
      " dense (Dense)               (None, 1)                 33        \n",
      "                                                                 \n",
      "=================================================================\n",
      "Total params: 29,345\n",
      "Trainable params: 29,345\n",
      "Non-trainable params: 0\n",
      "_________________________________________________________________\n",
      "Epoch 1/20\n",
      "116/116 [==============================] - 5s 15ms/step - loss: 0.7834 - val_loss: 0.7149\n",
      "Epoch 2/20\n",
      "116/116 [==============================] - 1s 9ms/step - loss: 0.7215 - val_loss: 0.7664\n",
      "Epoch 3/20\n",
      "116/116 [==============================] - 1s 9ms/step - loss: 0.6651 - val_loss: 0.5830\n",
      "Epoch 4/20\n",
      "116/116 [==============================] - 1s 11ms/step - loss: 0.6099 - val_loss: 0.9827\n",
      "Epoch 5/20\n",
      "116/116 [==============================] - 1s 10ms/step - loss: 0.5724 - val_loss: 0.6179\n",
      "Epoch 6/20\n",
      "116/116 [==============================] - 1s 10ms/step - loss: 0.5393 - val_loss: 0.5460\n",
      "Epoch 7/20\n",
      "116/116 [==============================] - 1s 8ms/step - loss: 0.4885 - val_loss: 0.4368\n",
      "Epoch 8/20\n",
      "116/116 [==============================] - 1s 9ms/step - loss: 0.4190 - val_loss: 0.3996\n",
      "Epoch 9/20\n",
      "116/116 [==============================] - 1s 9ms/step - loss: 0.3506 - val_loss: 0.6995\n",
      "Epoch 10/20\n",
      "116/116 [==============================] - 1s 9ms/step - loss: 0.3005 - val_loss: 0.5679\n",
      "Epoch 11/20\n",
      "116/116 [==============================] - 1s 9ms/step - loss: 0.2660 - val_loss: 0.5399\n",
      "Epoch 12/20\n",
      "116/116 [==============================] - 1s 9ms/step - loss: 0.2559 - val_loss: 0.4150\n",
      "Epoch 13/20\n",
      "116/116 [==============================] - 1s 9ms/step - loss: 0.2281 - val_loss: 0.5552\n",
      "Epoch 14/20\n",
      "116/116 [==============================] - 1s 9ms/step - loss: 0.2141 - val_loss: 0.3483\n",
      "Epoch 15/20\n",
      "116/116 [==============================] - 1s 9ms/step - loss: 0.2254 - val_loss: 0.4909\n",
      "Epoch 16/20\n",
      "116/116 [==============================] - 1s 9ms/step - loss: 0.2010 - val_loss: 0.7258\n",
      "Epoch 17/20\n",
      "116/116 [==============================] - 1s 8ms/step - loss: 0.1959 - val_loss: 0.6456\n",
      "Epoch 18/20\n",
      "116/116 [==============================] - 1s 8ms/step - loss: 0.1878 - val_loss: 0.3082\n",
      "Epoch 19/20\n",
      "116/116 [==============================] - 1s 9ms/step - loss: 0.1927 - val_loss: 0.3605\n",
      "Epoch 20/20\n",
      "116/116 [==============================] - 1s 8ms/step - loss: 0.1722 - val_loss: 0.3368\n"
     ]
    }
   ],
   "source": [
    "model = keras.models.Sequential()\n",
    "model.add(\n",
    "    keras.layers.LSTM(\n",
    "        64,\n",
    "        input_shape=(train_x.shape[1], train_x.shape[2]),\n",
    "        return_sequences=True,\n",
    "    ),\n",
    ")\n",
    "model.add(keras.layers.LSTM(32, return_sequences=False))\n",
    "model.add(keras.layers.Dropout(0.2))\n",
    "model.add(keras.layers.Dense(train_y.shape[1]))\n",
    "\n",
    "\n",
    "opt = keras.optimizers.Adam()\n",
    "model.compile(optimizer=opt, loss='mse')\n",
    "model.summary()\n",
    "\n",
    "history = model.fit(\n",
    "    train_x, train_y, epochs=20,\n",
    "    batch_size=16, validation_split=0.1,\n",
    ")"
   ]
  },
  {
   "cell_type": "code",
   "execution_count": 36,
   "id": "e07c6fce",
   "metadata": {},
   "outputs": [
    {
     "data": {
      "text/plain": [
       "[<matplotlib.lines.Line2D at 0x1f5184e64f0>]"
      ]
     },
     "execution_count": 36,
     "metadata": {},
     "output_type": "execute_result"
    },
    {
     "data": {
      "image/png": "[encoded data removed]",
      "text/plain": [
       "<Figure size 640x480 with 1 Axes>"
      ]
     },
     "metadata": {},
     "output_type": "display_data"
    }
   ],
   "source": [
    "plt.plot(history.history['loss'])\n",
    "plt.plot(history.history['val_loss'])"
   ]
  },
  {
   "cell_type": "markdown",
   "id": "5dd514a3",
   "metadata": {},
   "source": [
    "***\n",
    "# Deploy the model\n",
    "\n",
    "## Predict the whole training data"
   ]
  },
  {
   "cell_type": "code",
   "execution_count": 38,
   "id": "964b8f51",
   "metadata": {},
   "outputs": [
    {
     "name": "stdout",
     "output_type": "stream",
     "text": [
      "65/65 [==============================] - 1s 4ms/step\n"
     ]
    },
    {
     "data": {
      "text/plain": [
       "array([[ 0.8863565 ],\n",
       "       [-0.09765175],\n",
       "       [-1.2372869 ],\n",
       "       ...,\n",
       "       [-0.9704183 ],\n",
       "       [-2.0852373 ],\n",
       "       [-0.7337827 ]], dtype=float32)"
      ]
     },
     "execution_count": 38,
     "metadata": {},
     "output_type": "execute_result"
    }
   ],
   "source": [
    "forecast = model.predict(train_x)\n",
    "forecast"
   ]
  },
  {
   "cell_type": "markdown",
   "id": "1de2963d",
   "metadata": {},
   "source": [
    "## Undo the scaling "
   ]
  },
  {
   "cell_type": "code",
   "execution_count": 53,
   "id": "94350907",
   "metadata": {},
   "outputs": [
    {
     "name": "stdout",
     "output_type": "stream",
     "text": [
      "(2055, 1)\n"
     ]
    },
    {
     "data": {
      "text/plain": [
       "array([[5893003. ],\n",
       "       [5267540.5],\n",
       "       [4543157. ],\n",
       "       ...,\n",
       "       [4712786. ],\n",
       "       [4004176. ],\n",
       "       [4863198. ]], dtype=float32)"
      ]
     },
     "execution_count": 53,
     "metadata": {},
     "output_type": "execute_result"
    }
   ],
   "source": [
    "forecast_copy = np.repeat(forecast, scaled_train_df.shape[1], axis=-1)\n",
    "print(forecast_copy.shape)\n",
    "y_pred = scaler.inverse_transform(forecast_copy)[:, :1]\n",
    "y_pred"
   ]
  },
  {
   "cell_type": "markdown",
   "id": "6109bcae",
   "metadata": {},
   "source": [
    "## Create a dataframe that can store the real and predicted values\n",
    "\n",
    "### Make a copy of the real Dataframe"
   ]
  },
  {
   "cell_type": "code",
   "execution_count": 56,
   "id": "aa3eabcc",
   "metadata": {},
   "outputs": [
    {
     "data": {
      "text/html": [
       "<div>\n",
       "<style scoped>\n",
       "    .dataframe tbody tr th:only-of-type {\n",
       "        vertical-align: middle;\n",
       "    }\n",
       "\n",
       "    .dataframe tbody tr th {\n",
       "        vertical-align: top;\n",
       "    }\n",
       "\n",
       "    .dataframe thead th {\n",
       "        text-align: right;\n",
       "    }\n",
       "</style>\n",
       "<table border=\"1\" class=\"dataframe\">\n",
       "  <thead>\n",
       "    <tr style=\"text-align: right;\">\n",
       "      <th></th>\n",
       "      <th>start</th>\n",
       "      <th>load</th>\n",
       "    </tr>\n",
       "  </thead>\n",
       "  <tbody>\n",
       "    <tr>\n",
       "      <th>0</th>\n",
       "      <td>2015-01-16 00:00:00+00:00</td>\n",
       "      <td>5725653.0</td>\n",
       "    </tr>\n",
       "    <tr>\n",
       "      <th>1</th>\n",
       "      <td>2015-01-17 00:00:00+00:00</td>\n",
       "      <td>4908832.0</td>\n",
       "    </tr>\n",
       "    <tr>\n",
       "      <th>2</th>\n",
       "      <td>2015-01-18 00:00:00+00:00</td>\n",
       "      <td>4558769.0</td>\n",
       "    </tr>\n",
       "    <tr>\n",
       "      <th>3</th>\n",
       "      <td>2015-01-19 00:00:00+00:00</td>\n",
       "      <td>5829195.0</td>\n",
       "    </tr>\n",
       "    <tr>\n",
       "      <th>4</th>\n",
       "      <td>2015-01-20 00:00:00+00:00</td>\n",
       "      <td>5957013.0</td>\n",
       "    </tr>\n",
       "    <tr>\n",
       "      <th>...</th>\n",
       "      <td>...</td>\n",
       "      <td>...</td>\n",
       "    </tr>\n",
       "    <tr>\n",
       "      <th>2050</th>\n",
       "      <td>2020-08-27 00:00:00+00:00</td>\n",
       "      <td>5309500.0</td>\n",
       "    </tr>\n",
       "    <tr>\n",
       "      <th>2051</th>\n",
       "      <td>2020-08-28 00:00:00+00:00</td>\n",
       "      <td>5111869.0</td>\n",
       "    </tr>\n",
       "    <tr>\n",
       "      <th>2052</th>\n",
       "      <td>2020-08-29 00:00:00+00:00</td>\n",
       "      <td>4313439.0</td>\n",
       "    </tr>\n",
       "    <tr>\n",
       "      <th>2053</th>\n",
       "      <td>2020-08-30 00:00:00+00:00</td>\n",
       "      <td>4023384.0</td>\n",
       "    </tr>\n",
       "    <tr>\n",
       "      <th>2054</th>\n",
       "      <td>2020-08-31 00:00:00+00:00</td>\n",
       "      <td>5174954.0</td>\n",
       "    </tr>\n",
       "  </tbody>\n",
       "</table>\n",
       "<p>2055 rows × 2 columns</p>\n",
       "</div>"
      ],
      "text/plain": [
       "                         start       load\n",
       "0    2015-01-16 00:00:00+00:00  5725653.0\n",
       "1    2015-01-17 00:00:00+00:00  4908832.0\n",
       "2    2015-01-18 00:00:00+00:00  4558769.0\n",
       "3    2015-01-19 00:00:00+00:00  5829195.0\n",
       "4    2015-01-20 00:00:00+00:00  5957013.0\n",
       "...                        ...        ...\n",
       "2050 2020-08-27 00:00:00+00:00  5309500.0\n",
       "2051 2020-08-28 00:00:00+00:00  5111869.0\n",
       "2052 2020-08-29 00:00:00+00:00  4313439.0\n",
       "2053 2020-08-30 00:00:00+00:00  4023384.0\n",
       "2054 2020-08-31 00:00:00+00:00  5174954.0\n",
       "\n",
       "[2055 rows x 2 columns]"
      ]
     },
     "execution_count": 56,
     "metadata": {},
     "output_type": "execute_result"
    }
   ],
   "source": [
    "real = df_agg[N_PAST:].copy().reset_index()\n",
    "real"
   ]
  },
  {
   "cell_type": "markdown",
   "id": "e2df310c",
   "metadata": {},
   "source": [
    "### Turn the predicted data into a dataframe"
   ]
  },
  {
   "cell_type": "code",
   "execution_count": 57,
   "id": "3b1945a4",
   "metadata": {},
   "outputs": [
    {
     "data": {
      "text/html": [
       "<div>\n",
       "<style scoped>\n",
       "    .dataframe tbody tr th:only-of-type {\n",
       "        vertical-align: middle;\n",
       "    }\n",
       "\n",
       "    .dataframe tbody tr th {\n",
       "        vertical-align: top;\n",
       "    }\n",
       "\n",
       "    .dataframe thead th {\n",
       "        text-align: right;\n",
       "    }\n",
       "</style>\n",
       "<table border=\"1\" class=\"dataframe\">\n",
       "  <thead>\n",
       "    <tr style=\"text-align: right;\">\n",
       "      <th></th>\n",
       "      <th>predicted</th>\n",
       "    </tr>\n",
       "  </thead>\n",
       "  <tbody>\n",
       "    <tr>\n",
       "      <th>0</th>\n",
       "      <td>5893003.0</td>\n",
       "    </tr>\n",
       "    <tr>\n",
       "      <th>1</th>\n",
       "      <td>5267540.5</td>\n",
       "    </tr>\n",
       "    <tr>\n",
       "      <th>2</th>\n",
       "      <td>4543157.0</td>\n",
       "    </tr>\n",
       "    <tr>\n",
       "      <th>3</th>\n",
       "      <td>5400062.5</td>\n",
       "    </tr>\n",
       "    <tr>\n",
       "      <th>4</th>\n",
       "      <td>5777011.0</td>\n",
       "    </tr>\n",
       "    <tr>\n",
       "      <th>...</th>\n",
       "      <td>...</td>\n",
       "    </tr>\n",
       "    <tr>\n",
       "      <th>2050</th>\n",
       "      <td>5418382.0</td>\n",
       "    </tr>\n",
       "    <tr>\n",
       "      <th>2051</th>\n",
       "      <td>5300559.5</td>\n",
       "    </tr>\n",
       "    <tr>\n",
       "      <th>2052</th>\n",
       "      <td>4712786.0</td>\n",
       "    </tr>\n",
       "    <tr>\n",
       "      <th>2053</th>\n",
       "      <td>4004176.0</td>\n",
       "    </tr>\n",
       "    <tr>\n",
       "      <th>2054</th>\n",
       "      <td>4863198.0</td>\n",
       "    </tr>\n",
       "  </tbody>\n",
       "</table>\n",
       "<p>2055 rows × 1 columns</p>\n",
       "</div>"
      ],
      "text/plain": [
       "      predicted\n",
       "0     5893003.0\n",
       "1     5267540.5\n",
       "2     4543157.0\n",
       "3     5400062.5\n",
       "4     5777011.0\n",
       "...         ...\n",
       "2050  5418382.0\n",
       "2051  5300559.5\n",
       "2052  4712786.0\n",
       "2053  4004176.0\n",
       "2054  4863198.0\n",
       "\n",
       "[2055 rows x 1 columns]"
      ]
     },
     "execution_count": 57,
     "metadata": {},
     "output_type": "execute_result"
    }
   ],
   "source": [
    "pred = pd.DataFrame(y_pred, columns=['predicted']).reset_index(drop=True)\n",
    "pred"
   ]
  },
  {
   "cell_type": "markdown",
   "id": "4778380e",
   "metadata": {},
   "source": [
    "### Merge the dataframes"
   ]
  },
  {
   "cell_type": "code",
   "execution_count": 58,
   "id": "ac66aeaf",
   "metadata": {},
   "outputs": [
    {
     "data": {
      "text/html": [
       "<div>\n",
       "<style scoped>\n",
       "    .dataframe tbody tr th:only-of-type {\n",
       "        vertical-align: middle;\n",
       "    }\n",
       "\n",
       "    .dataframe tbody tr th {\n",
       "        vertical-align: top;\n",
       "    }\n",
       "\n",
       "    .dataframe thead th {\n",
       "        text-align: right;\n",
       "    }\n",
       "</style>\n",
       "<table border=\"1\" class=\"dataframe\">\n",
       "  <thead>\n",
       "    <tr style=\"text-align: right;\">\n",
       "      <th></th>\n",
       "      <th>load</th>\n",
       "      <th>predicted</th>\n",
       "    </tr>\n",
       "    <tr>\n",
       "      <th>start</th>\n",
       "      <th></th>\n",
       "      <th></th>\n",
       "    </tr>\n",
       "  </thead>\n",
       "  <tbody>\n",
       "    <tr>\n",
       "      <th>2015-01-16 00:00:00+00:00</th>\n",
       "      <td>5725653.0</td>\n",
       "      <td>5893003.0</td>\n",
       "    </tr>\n",
       "    <tr>\n",
       "      <th>2015-01-17 00:00:00+00:00</th>\n",
       "      <td>4908832.0</td>\n",
       "      <td>5267540.5</td>\n",
       "    </tr>\n",
       "    <tr>\n",
       "      <th>2015-01-18 00:00:00+00:00</th>\n",
       "      <td>4558769.0</td>\n",
       "      <td>4543157.0</td>\n",
       "    </tr>\n",
       "    <tr>\n",
       "      <th>2015-01-19 00:00:00+00:00</th>\n",
       "      <td>5829195.0</td>\n",
       "      <td>5400062.5</td>\n",
       "    </tr>\n",
       "    <tr>\n",
       "      <th>2015-01-20 00:00:00+00:00</th>\n",
       "      <td>5957013.0</td>\n",
       "      <td>5777011.0</td>\n",
       "    </tr>\n",
       "    <tr>\n",
       "      <th>...</th>\n",
       "      <td>...</td>\n",
       "      <td>...</td>\n",
       "    </tr>\n",
       "    <tr>\n",
       "      <th>2020-08-27 00:00:00+00:00</th>\n",
       "      <td>5309500.0</td>\n",
       "      <td>5418382.0</td>\n",
       "    </tr>\n",
       "    <tr>\n",
       "      <th>2020-08-28 00:00:00+00:00</th>\n",
       "      <td>5111869.0</td>\n",
       "      <td>5300559.5</td>\n",
       "    </tr>\n",
       "    <tr>\n",
       "      <th>2020-08-29 00:00:00+00:00</th>\n",
       "      <td>4313439.0</td>\n",
       "      <td>4712786.0</td>\n",
       "    </tr>\n",
       "    <tr>\n",
       "      <th>2020-08-30 00:00:00+00:00</th>\n",
       "      <td>4023384.0</td>\n",
       "      <td>4004176.0</td>\n",
       "    </tr>\n",
       "    <tr>\n",
       "      <th>2020-08-31 00:00:00+00:00</th>\n",
       "      <td>5174954.0</td>\n",
       "      <td>4863198.0</td>\n",
       "    </tr>\n",
       "  </tbody>\n",
       "</table>\n",
       "<p>2055 rows × 2 columns</p>\n",
       "</div>"
      ],
      "text/plain": [
       "                                load  predicted\n",
       "start                                          \n",
       "2015-01-16 00:00:00+00:00  5725653.0  5893003.0\n",
       "2015-01-17 00:00:00+00:00  4908832.0  5267540.5\n",
       "2015-01-18 00:00:00+00:00  4558769.0  4543157.0\n",
       "2015-01-19 00:00:00+00:00  5829195.0  5400062.5\n",
       "2015-01-20 00:00:00+00:00  5957013.0  5777011.0\n",
       "...                              ...        ...\n",
       "2020-08-27 00:00:00+00:00  5309500.0  5418382.0\n",
       "2020-08-28 00:00:00+00:00  5111869.0  5300559.5\n",
       "2020-08-29 00:00:00+00:00  4313439.0  4712786.0\n",
       "2020-08-30 00:00:00+00:00  4023384.0  4004176.0\n",
       "2020-08-31 00:00:00+00:00  5174954.0  4863198.0\n",
       "\n",
       "[2055 rows x 2 columns]"
      ]
     },
     "execution_count": 58,
     "metadata": {},
     "output_type": "execute_result"
    }
   ],
   "source": [
    "new_df = pd.concat([real, pred], axis=1)\n",
    "new_df = new_df.set_index('start')\n",
    "new_df"
   ]
  },
  {
   "cell_type": "markdown",
   "id": "bd17843d",
   "metadata": {},
   "source": [
    "## Plot the whole dataframe with predicted and real values"
   ]
  },
  {
   "cell_type": "code",
   "execution_count": 59,
   "id": "93d65328",
   "metadata": {},
   "outputs": [
    {
     "data": {
      "text/plain": [
       "<matplotlib.legend.Legend at 0x1f725eff070>"
      ]
     },
     "execution_count": 59,
     "metadata": {},
     "output_type": "execute_result"
    },
    {
     "data": {
      "image/png": "[encoded data removed]",
      "text/plain": [
       "<Figure size 640x480 with 1 Axes>"
      ]
     },
     "metadata": {},
     "output_type": "display_data"
    }
   ],
   "source": [
    "plt.xticks(rotation=45)\n",
    "plt.plot(new_df)\n",
    "plt.legend(new_df.columns)"
   ]
  },
  {
   "cell_type": "markdown",
   "id": "72d29006",
   "metadata": {},
   "source": [
    "## Take a closer look on the data which was saved for validation\n",
    "\n",
    "### Truncate the validation data"
   ]
  },
  {
   "cell_type": "code",
   "execution_count": 60,
   "id": "c0d908ec",
   "metadata": {},
   "outputs": [
    {
     "data": {
      "text/html": [
       "<div>\n",
       "<style scoped>\n",
       "    .dataframe tbody tr th:only-of-type {\n",
       "        vertical-align: middle;\n",
       "    }\n",
       "\n",
       "    .dataframe tbody tr th {\n",
       "        vertical-align: top;\n",
       "    }\n",
       "\n",
       "    .dataframe thead th {\n",
       "        text-align: right;\n",
       "    }\n",
       "</style>\n",
       "<table border=\"1\" class=\"dataframe\">\n",
       "  <thead>\n",
       "    <tr style=\"text-align: right;\">\n",
       "      <th></th>\n",
       "      <th>load</th>\n",
       "      <th>predicted</th>\n",
       "    </tr>\n",
       "    <tr>\n",
       "      <th>start</th>\n",
       "      <th></th>\n",
       "      <th></th>\n",
       "    </tr>\n",
       "  </thead>\n",
       "  <tbody>\n",
       "    <tr>\n",
       "      <th>2020-02-09 00:00:00+00:00</th>\n",
       "      <td>4751691.0</td>\n",
       "      <td>4781250.0</td>\n",
       "    </tr>\n",
       "    <tr>\n",
       "      <th>2020-02-10 00:00:00+00:00</th>\n",
       "      <td>6028349.0</td>\n",
       "      <td>6015993.0</td>\n",
       "    </tr>\n",
       "    <tr>\n",
       "      <th>2020-02-11 00:00:00+00:00</th>\n",
       "      <td>6297658.0</td>\n",
       "      <td>6194087.5</td>\n",
       "    </tr>\n",
       "    <tr>\n",
       "      <th>2020-02-12 00:00:00+00:00</th>\n",
       "      <td>6308432.0</td>\n",
       "      <td>6264813.5</td>\n",
       "    </tr>\n",
       "    <tr>\n",
       "      <th>2020-02-13 00:00:00+00:00</th>\n",
       "      <td>6317693.0</td>\n",
       "      <td>6254052.5</td>\n",
       "    </tr>\n",
       "    <tr>\n",
       "      <th>...</th>\n",
       "      <td>...</td>\n",
       "      <td>...</td>\n",
       "    </tr>\n",
       "    <tr>\n",
       "      <th>2020-08-27 00:00:00+00:00</th>\n",
       "      <td>5309500.0</td>\n",
       "      <td>5418382.0</td>\n",
       "    </tr>\n",
       "    <tr>\n",
       "      <th>2020-08-28 00:00:00+00:00</th>\n",
       "      <td>5111869.0</td>\n",
       "      <td>5300559.5</td>\n",
       "    </tr>\n",
       "    <tr>\n",
       "      <th>2020-08-29 00:00:00+00:00</th>\n",
       "      <td>4313439.0</td>\n",
       "      <td>4712786.0</td>\n",
       "    </tr>\n",
       "    <tr>\n",
       "      <th>2020-08-30 00:00:00+00:00</th>\n",
       "      <td>4023384.0</td>\n",
       "      <td>4004176.0</td>\n",
       "    </tr>\n",
       "    <tr>\n",
       "      <th>2020-08-31 00:00:00+00:00</th>\n",
       "      <td>5174954.0</td>\n",
       "      <td>4863198.0</td>\n",
       "    </tr>\n",
       "  </tbody>\n",
       "</table>\n",
       "<p>205 rows × 2 columns</p>\n",
       "</div>"
      ],
      "text/plain": [
       "                                load  predicted\n",
       "start                                          \n",
       "2020-02-09 00:00:00+00:00  4751691.0  4781250.0\n",
       "2020-02-10 00:00:00+00:00  6028349.0  6015993.0\n",
       "2020-02-11 00:00:00+00:00  6297658.0  6194087.5\n",
       "2020-02-12 00:00:00+00:00  6308432.0  6264813.5\n",
       "2020-02-13 00:00:00+00:00  6317693.0  6254052.5\n",
       "...                              ...        ...\n",
       "2020-08-27 00:00:00+00:00  5309500.0  5418382.0\n",
       "2020-08-28 00:00:00+00:00  5111869.0  5300559.5\n",
       "2020-08-29 00:00:00+00:00  4313439.0  4712786.0\n",
       "2020-08-30 00:00:00+00:00  4023384.0  4004176.0\n",
       "2020-08-31 00:00:00+00:00  5174954.0  4863198.0\n",
       "\n",
       "[205 rows x 2 columns]"
      ]
     },
     "execution_count": 60,
     "metadata": {},
     "output_type": "execute_result"
    }
   ],
   "source": [
    "validation_data = int(len(new_df) * 0.1)\n",
    "val_data = new_df[-validation_data:]\n",
    "val_data"
   ]
  },
  {
   "cell_type": "markdown",
   "id": "d8b33519",
   "metadata": {},
   "source": [
    "### Calculate the RMSE"
   ]
  },
  {
   "cell_type": "code",
   "execution_count": 63,
   "id": "a598e83e",
   "metadata": {},
   "outputs": [
    {
     "name": "stdout",
     "output_type": "stream",
     "text": [
      "RMSE: 369747.98\n"
     ]
    }
   ],
   "source": [
    "rmse = np.sqrt(mean_squared_error(val_data['load'], val_data['predicted']))\n",
    "print(f'RMSE: {rmse:.2f}')"
   ]
  },
  {
   "cell_type": "markdown",
   "id": "f2bf4ddd",
   "metadata": {},
   "source": [
    "###  Plot the predicted and real validation data"
   ]
  },
  {
   "cell_type": "code",
   "execution_count": 64,
   "id": "d76017e4",
   "metadata": {},
   "outputs": [
    {
     "data": {
      "text/plain": [
       "<matplotlib.legend.Legend at 0x1f72ccade50>"
      ]
     },
     "execution_count": 64,
     "metadata": {},
     "output_type": "execute_result"
    },
    {
     "data": {
      "image/png": "[encoded data removed]",
      "text/plain": [
       "<Figure size 640x480 with 1 Axes>"
      ]
     },
     "metadata": {},
     "output_type": "display_data"
    }
   ],
   "source": [
    "plt.xticks(rotation=45)\n",
    "plt.plot(val_data)\n",
    "plt.legend(val_data.columns)"
   ]
  }
 ],
 "metadata": {
  "interpreter": {
   "hash": "5a274f5bd04a396b8908bf1d1bfbb0d1e017dd743cd0931978365c9130448495"
  },
  "kernelspec": {
   "display_name": "Python 3.9.13 ('venv-tf')",
   "language": "python",
   "name": "python3"
  },
  "language_info": {
   "codemirror_mode": {
    "name": "ipython",
    "version": 3
   },
   "file_extension": ".py",
   "mimetype": "text/x-python",
   "name": "python",
   "nbconvert_exporter": "python",
   "pygments_lexer": "ipython3",
   "version": "3.9.13"
  }
 },
 "nbformat": 4,
 "nbformat_minor": 5
}
