{
 "cells": [
  {
   "cell_type": "markdown",
   "id": "f5a3053d",
   "metadata": {},
   "source": [
    "### 1. Import NumPy as np"
   ]
  },
  {
   "cell_type": "code",
   "execution_count": 27,
   "id": "f053edde",
   "metadata": {},
   "outputs": [],
   "source": [
    "import numpy as np"
   ]
  },
  {
   "cell_type": "markdown",
   "id": "7f84e395",
   "metadata": {},
   "source": [
    "### 2. Create an array from this list"
   ]
  },
  {
   "cell_type": "code",
   "execution_count": 28,
   "id": "d0f9fbb1",
   "metadata": {},
   "outputs": [
    {
     "data": {
      "text/plain": [
       "array([9, 8, 7, 6, 5, 4, 3, 2, 1])"
      ]
     },
     "execution_count": 28,
     "metadata": {},
     "output_type": "execute_result"
    }
   ],
   "source": [
    "mylist = [9, 8, 7, 6, 5, 4, 3, 2, 1]\n",
    "a = np.array(mylist)\n",
    "a"
   ]
  },
  {
   "cell_type": "markdown",
   "id": "82bb837a",
   "metadata": {},
   "source": [
    "### 3. Reshape the array you just created to the shape 3x3"
   ]
  },
  {
   "cell_type": "code",
   "execution_count": 29,
   "id": "af0609f1",
   "metadata": {},
   "outputs": [],
   "source": [
    "new_a = a.reshape((3, 3))"
   ]
  },
  {
   "cell_type": "markdown",
   "id": "f4b2d522",
   "metadata": {},
   "source": [
    "### 4. Print the shape of the array you just  reshaped"
   ]
  },
  {
   "cell_type": "code",
   "execution_count": 30,
   "id": "a3b2fadb",
   "metadata": {},
   "outputs": [
    {
     "data": {
      "text/plain": [
       "(3, 3)"
      ]
     },
     "execution_count": 30,
     "metadata": {},
     "output_type": "execute_result"
    }
   ],
   "source": [
    "new_a.shape"
   ]
  },
  {
   "cell_type": "markdown",
   "id": "98679b68",
   "metadata": {},
   "source": [
    "### 5. Create an array of 25 fives with the shape of 5x5"
   ]
  },
  {
   "cell_type": "code",
   "execution_count": 31,
   "id": "0b6c3f30",
   "metadata": {},
   "outputs": [
    {
     "data": {
      "text/plain": [
       "array([[5., 5., 5., 5., 5.],\n",
       "       [5., 5., 5., 5., 5.],\n",
       "       [5., 5., 5., 5., 5.],\n",
       "       [5., 5., 5., 5., 5.],\n",
       "       [5., 5., 5., 5., 5.]])"
      ]
     },
     "execution_count": 31,
     "metadata": {},
     "output_type": "execute_result"
    }
   ],
   "source": [
    "zeros = np.zeros((5, 5))\n",
    "fives = zeros + 5\n",
    "fives"
   ]
  },
  {
   "cell_type": "markdown",
   "id": "afaff997",
   "metadata": {},
   "source": [
    "### 6. Create an array of 10 random numbers between 0 and 1"
   ]
  },
  {
   "cell_type": "code",
   "execution_count": 32,
   "id": "fa8ade57",
   "metadata": {},
   "outputs": [
    {
     "data": {
      "text/plain": [
       "array([0.64031487, 0.14010954, 0.39570727, 0.03363427, 0.56657568,\n",
       "       0.80671275, 0.75912169, 0.02537611, 0.37746332, 0.10913984])"
      ]
     },
     "execution_count": 32,
     "metadata": {},
     "output_type": "execute_result"
    }
   ],
   "source": [
    "rand_a = np.random.rand(10)\n",
    "rand_a"
   ]
  },
  {
   "cell_type": "markdown",
   "id": "4f3fa311",
   "metadata": {},
   "source": [
    "### 7. Create a 10x10 matrix of random integers between 0 and 255 "
   ]
  },
  {
   "cell_type": "code",
   "execution_count": 33,
   "id": "061f8587",
   "metadata": {},
   "outputs": [
    {
     "data": {
      "text/plain": [
       "array([[204, 126, 124,  14,  22, 121,  58,  99, 174,  89],\n",
       "       [143, 193,  45, 108,  36,  78, 173,  62, 133,  81],\n",
       "       [228,  17, 117, 205,  74, 122,  63, 167,  47, 222],\n",
       "       [207,   0, 161, 131,  69, 207, 131,   9,  74, 211],\n",
       "       [ 42,  60, 188,  46, 201,  21, 213, 230, 144,   4],\n",
       "       [247, 118, 235,  71, 212,  52, 111,  92,  63,  68],\n",
       "       [ 56,  14,   7, 160,  18, 239, 250,  82, 141,  49],\n",
       "       [160, 229,  61,  72, 206,  23,  24, 229, 119, 113],\n",
       "       [ 12, 137, 183, 138, 103,  83,  82,  13,   1, 250],\n",
       "       [152, 252,  34, 233, 194, 132, 218, 239, 204,  81]])"
      ]
     },
     "execution_count": 33,
     "metadata": {},
     "output_type": "execute_result"
    }
   ],
   "source": [
    "matrix = np.random.randint(low=0, high=255, size=(10, 10))\n",
    "matrix"
   ]
  },
  {
   "cell_type": "markdown",
   "id": "c0af30e0",
   "metadata": {},
   "source": [
    "### 8. Based on your previous matrix, get the item which is in row 6 and column 4"
   ]
  },
  {
   "cell_type": "code",
   "execution_count": 34,
   "id": "3f9a5188",
   "metadata": {},
   "outputs": [
    {
     "data": {
      "text/plain": [
       "71"
      ]
     },
     "execution_count": 34,
     "metadata": {},
     "output_type": "execute_result"
    }
   ],
   "source": [
    "matrix[5][3]"
   ]
  },
  {
   "cell_type": "markdown",
   "id": "ce47fb25",
   "metadata": {},
   "source": [
    "### 9. Based on your previous matrix, select the last value from every row"
   ]
  },
  {
   "cell_type": "code",
   "execution_count": 35,
   "id": "67a5d510",
   "metadata": {},
   "outputs": [
    {
     "data": {
      "text/plain": [
       "array([ 89,  81, 222, 211,   4,  68,  49, 113, 250,  81])"
      ]
     },
     "execution_count": 35,
     "metadata": {},
     "output_type": "execute_result"
    }
   ],
   "source": [
    "matrix[:, -1]"
   ]
  }
 ],
 "metadata": {
  "kernelspec": {
   "display_name": "Python 3.9.15 ('venv': venv)",
   "language": "python",
   "name": "python3"
  },
  "language_info": {
   "codemirror_mode": {
    "name": "ipython",
    "version": 3
   },
   "file_extension": ".py",
   "mimetype": "text/x-python",
   "name": "python",
   "nbconvert_exporter": "python",
   "pygments_lexer": "ipython3",
   "version": "3.9.15"
  },
  "vscode": {
   "interpreter": {
    "hash": "ad2c4701e7035aba853efbbfd5eb25f191458bb018cce931b41cba6962e4f15c"
   }
  }
 },
 "nbformat": 4,
 "nbformat_minor": 5
}
