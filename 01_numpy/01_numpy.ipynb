{
 "cells": [
  {
   "cell_type": "code",
   "execution_count": 42,
   "id": "dd717c14",
   "metadata": {},
   "outputs": [],
   "source": [
    "import numpy"
   ]
  },
  {
   "cell_type": "code",
   "execution_count": 3,
   "id": "9d998150",
   "metadata": {},
   "outputs": [
    {
     "data": {
      "text/plain": [
       "list"
      ]
     },
     "execution_count": 3,
     "metadata": {},
     "output_type": "execute_result"
    }
   ],
   "source": [
    "li = [1, 2, 3]\n",
    "type(li)"
   ]
  },
  {
   "cell_type": "code",
   "execution_count": 6,
   "id": "5818502b",
   "metadata": {},
   "outputs": [
    {
     "data": {
      "text/plain": [
       "array([1, 2, 3])"
      ]
     },
     "execution_count": 6,
     "metadata": {},
     "output_type": "execute_result"
    }
   ],
   "source": [
    "a = numpy.array(li)\n",
    "a"
   ]
  },
  {
   "cell_type": "markdown",
   "id": "fdb6c158",
   "metadata": {},
   "source": [
    "### Transform nested list to 2D array"
   ]
  },
  {
   "cell_type": "code",
   "execution_count": 10,
   "id": "d17d9439",
   "metadata": {},
   "outputs": [
    {
     "data": {
      "text/plain": [
       "[[1, 2, 3], [4, 5, 6], [7, 8, 9]]"
      ]
     },
     "execution_count": 10,
     "metadata": {},
     "output_type": "execute_result"
    }
   ],
   "source": [
    "mylist = [[1, 2, 3], [4, 5, 6], [7, 8, 9]]\n",
    "mylist"
   ]
  },
  {
   "cell_type": "code",
   "execution_count": 11,
   "id": "0f391658",
   "metadata": {},
   "outputs": [
    {
     "data": {
      "text/plain": [
       "array([[1, 2, 3],\n",
       "       [4, 5, 6],\n",
       "       [7, 8, 9]])"
      ]
     },
     "execution_count": 11,
     "metadata": {},
     "output_type": "execute_result"
    }
   ],
   "source": [
    "matrix = numpy.array(mylist)\n",
    "matrix"
   ]
  },
  {
   "cell_type": "code",
   "execution_count": 12,
   "id": "f1fb55d5",
   "metadata": {},
   "outputs": [
    {
     "data": {
      "text/plain": [
       "(3, 3)"
      ]
     },
     "execution_count": 12,
     "metadata": {},
     "output_type": "execute_result"
    }
   ],
   "source": [
    "matrix.shape"
   ]
  },
  {
   "cell_type": "markdown",
   "id": "753565c1",
   "metadata": {},
   "source": [
    "## Numpy built in methods"
   ]
  },
  {
   "cell_type": "code",
   "execution_count": 15,
   "id": "f1841518",
   "metadata": {},
   "outputs": [
    {
     "data": {
      "text/plain": [
       "array([ 0,  1,  2,  3,  4,  5,  6,  7,  8,  9, 10])"
      ]
     },
     "execution_count": 15,
     "metadata": {},
     "output_type": "execute_result"
    }
   ],
   "source": [
    "numpy.arange(0, 11, 1)"
   ]
  },
  {
   "cell_type": "code",
   "execution_count": 17,
   "id": "1719e7d0",
   "metadata": {},
   "outputs": [
    {
     "data": {
      "text/plain": [
       "array([1., 1., 1., 1., 1.])"
      ]
     },
     "execution_count": 17,
     "metadata": {},
     "output_type": "execute_result"
    }
   ],
   "source": [
    "numpy.ones(5)"
   ]
  },
  {
   "cell_type": "code",
   "execution_count": 18,
   "id": "7c806549",
   "metadata": {},
   "outputs": [
    {
     "data": {
      "text/plain": [
       "array([[1., 1., 1., 1., 1.],\n",
       "       [1., 1., 1., 1., 1.],\n",
       "       [1., 1., 1., 1., 1.]])"
      ]
     },
     "execution_count": 18,
     "metadata": {},
     "output_type": "execute_result"
    }
   ],
   "source": [
    "numpy.ones((3, 5))"
   ]
  },
  {
   "cell_type": "code",
   "execution_count": 20,
   "id": "4615f68f",
   "metadata": {},
   "outputs": [
    {
     "data": {
      "text/plain": [
       "array([0., 0., 0., 0., 0., 0., 0., 0., 0., 0., 0., 0., 0., 0., 0.])"
      ]
     },
     "execution_count": 20,
     "metadata": {},
     "output_type": "execute_result"
    }
   ],
   "source": [
    "numpy.zeros(15)"
   ]
  },
  {
   "cell_type": "markdown",
   "id": "3bc81dda",
   "metadata": {},
   "source": [
    "### Broadcasting operations to every value in matrices"
   ]
  },
  {
   "cell_type": "code",
   "execution_count": 22,
   "id": "44392711",
   "metadata": {},
   "outputs": [
    {
     "data": {
      "text/plain": [
       "array([[7., 7., 7., 7., 7., 7.],\n",
       "       [7., 7., 7., 7., 7., 7.],\n",
       "       [7., 7., 7., 7., 7., 7.],\n",
       "       [7., 7., 7., 7., 7., 7.]])"
      ]
     },
     "execution_count": 22,
     "metadata": {},
     "output_type": "execute_result"
    }
   ],
   "source": [
    "numpy.ones((4, 6)) + 6"
   ]
  },
  {
   "cell_type": "code",
   "execution_count": 23,
   "id": "b4b05072",
   "metadata": {},
   "outputs": [
    {
     "data": {
      "text/plain": [
       "array([100., 100., 100., 100., 100., 100., 100., 100., 100., 100.])"
      ]
     },
     "execution_count": 23,
     "metadata": {},
     "output_type": "execute_result"
    }
   ],
   "source": [
    "numpy.ones(10) * 100"
   ]
  },
  {
   "cell_type": "code",
   "execution_count": 24,
   "id": "0d76ea57",
   "metadata": {},
   "outputs": [
    {
     "data": {
      "text/plain": [
       "array([ 0.,  5., 10.])"
      ]
     },
     "execution_count": 24,
     "metadata": {},
     "output_type": "execute_result"
    }
   ],
   "source": [
    "numpy.linspace(0, 10, 3)"
   ]
  },
  {
   "cell_type": "code",
   "execution_count": 26,
   "id": "5fc9b438",
   "metadata": {},
   "outputs": [
    {
     "data": {
      "text/plain": [
       "array([0.        , 0.05263158, 0.10526316, 0.15789474, 0.21052632,\n",
       "       0.26315789, 0.31578947, 0.36842105, 0.42105263, 0.47368421,\n",
       "       0.52631579, 0.57894737, 0.63157895, 0.68421053, 0.73684211,\n",
       "       0.78947368, 0.84210526, 0.89473684, 0.94736842, 1.        ])"
      ]
     },
     "execution_count": 26,
     "metadata": {},
     "output_type": "execute_result"
    }
   ],
   "source": [
    "numpy.linspace(0, 1, 20)"
   ]
  },
  {
   "cell_type": "markdown",
   "id": "b1c12d20",
   "metadata": {},
   "source": [
    "### `numpy.random.rand`\n",
    "creates random samples of uniform distribution between 0 and 1 (every values between 0 and 1 has the sam probability of getting chosen)"
   ]
  },
  {
   "cell_type": "code",
   "execution_count": 45,
   "id": "86e4c829",
   "metadata": {},
   "outputs": [
    {
     "data": {
      "text/plain": [
       "array([0.1578506 , 0.40306285, 0.57187145])"
      ]
     },
     "execution_count": 45,
     "metadata": {},
     "output_type": "execute_result"
    }
   ],
   "source": [
    "numpy.random.rand(3)"
   ]
  },
  {
   "cell_type": "markdown",
   "id": "5c1d46ac",
   "metadata": {},
   "source": [
    "### `numpy.random.randn`\n",
    "creates samples from the standard normal distribution (mean = 0, stdev = 1)."
   ]
  },
  {
   "cell_type": "code",
   "execution_count": 46,
   "id": "a85561f0",
   "metadata": {},
   "outputs": [
    {
     "data": {
      "text/plain": [
       "array([ 0.83856206,  0.84449059, -2.26963676, -1.47726399,  0.31750898,\n",
       "        0.36295761,  0.16585161,  0.17356538, -0.09307324,  1.81978381])"
      ]
     },
     "execution_count": 46,
     "metadata": {},
     "output_type": "execute_result"
    }
   ],
   "source": [
    "numpy.random.randn(10)"
   ]
  },
  {
   "cell_type": "markdown",
   "id": "872d8622",
   "metadata": {},
   "source": [
    "### `numpy.random.randint`"
   ]
  },
  {
   "cell_type": "code",
   "execution_count": 74,
   "id": "c1f9376a",
   "metadata": {},
   "outputs": [
    {
     "data": {
      "text/plain": [
       "91"
      ]
     },
     "execution_count": 74,
     "metadata": {},
     "output_type": "execute_result"
    }
   ],
   "source": [
    "numpy.random.randint(1, 100)"
   ]
  },
  {
   "cell_type": "markdown",
   "id": "0227f8b3",
   "metadata": {},
   "source": [
    "### `numpy.reshape`"
   ]
  },
  {
   "cell_type": "code",
   "execution_count": 79,
   "id": "f8d8af8a",
   "metadata": {},
   "outputs": [
    {
     "data": {
      "text/plain": [
       "(25,)"
      ]
     },
     "execution_count": 79,
     "metadata": {},
     "output_type": "execute_result"
    }
   ],
   "source": [
    "a = numpy.arange(25)\n",
    "a.shape"
   ]
  },
  {
   "cell_type": "code",
   "execution_count": 81,
   "id": "1d988a10",
   "metadata": {},
   "outputs": [
    {
     "data": {
      "text/plain": [
       "array([[ 0,  1,  2,  3,  4],\n",
       "       [ 5,  6,  7,  8,  9],\n",
       "       [10, 11, 12, 13, 14],\n",
       "       [15, 16, 17, 18, 19],\n",
       "       [20, 21, 22, 23, 24]])"
      ]
     },
     "execution_count": 81,
     "metadata": {},
     "output_type": "execute_result"
    }
   ],
   "source": [
    "reshaped = a.reshape(5, 5)\n",
    "reshaped"
   ]
  },
  {
   "cell_type": "markdown",
   "id": "bb67fa4c",
   "metadata": {},
   "source": [
    "### `numpy.min()` & `numpy.max()`"
   ]
  },
  {
   "cell_type": "markdown",
   "id": "ddfda81c",
   "metadata": {},
   "source": [
    "a = numpy.random.randint(0, 50, 10)\n",
    "print(a)\n",
    "print(a.min())\n",
    "print(a.max())"
   ]
  },
  {
   "cell_type": "markdown",
   "id": "5c606b7a",
   "metadata": {},
   "source": [
    "### `numpy.argmin()` & `np.argmax()`"
   ]
  },
  {
   "cell_type": "code",
   "execution_count": 94,
   "id": "7c8e26c2",
   "metadata": {},
   "outputs": [
    {
     "name": "stdout",
     "output_type": "stream",
     "text": [
      "7\n",
      "5\n"
     ]
    }
   ],
   "source": [
    "print(a.argmin())\n",
    "print(a.argmax())"
   ]
  },
  {
   "cell_type": "markdown",
   "id": "76d1648b",
   "metadata": {},
   "source": [
    "### `numpy.dtype`"
   ]
  },
  {
   "cell_type": "code",
   "execution_count": 95,
   "id": "52ef0f66",
   "metadata": {},
   "outputs": [
    {
     "data": {
      "text/plain": [
       "dtype('int32')"
      ]
     },
     "execution_count": 95,
     "metadata": {},
     "output_type": "execute_result"
    }
   ],
   "source": [
    "a.dtype"
   ]
  },
  {
   "cell_type": "markdown",
   "id": "5bec731b",
   "metadata": {},
   "source": [
    "## Selections and indexing"
   ]
  },
  {
   "cell_type": "code",
   "execution_count": 99,
   "id": "448fcb66",
   "metadata": {},
   "outputs": [
    {
     "data": {
      "text/plain": [
       "array([ 0,  6,  2,  8,  7, 10,  7,  9,  3,  8])"
      ]
     },
     "execution_count": 99,
     "metadata": {},
     "output_type": "execute_result"
    }
   ],
   "source": [
    "a = numpy.random.randint(0, 11, 10)\n",
    "a"
   ]
  },
  {
   "cell_type": "code",
   "execution_count": 100,
   "id": "810b3236",
   "metadata": {},
   "outputs": [
    {
     "data": {
      "text/plain": [
       "7"
      ]
     },
     "execution_count": 100,
     "metadata": {},
     "output_type": "execute_result"
    }
   ],
   "source": [
    "a[4]"
   ]
  },
  {
   "cell_type": "markdown",
   "id": "16000372",
   "metadata": {},
   "source": [
    "### slicing 1D array"
   ]
  },
  {
   "cell_type": "code",
   "execution_count": 106,
   "id": "38f64bc6",
   "metadata": {},
   "outputs": [
    {
     "data": {
      "text/plain": [
       "array([ 6,  2,  8,  7, 10])"
      ]
     },
     "execution_count": 106,
     "metadata": {},
     "output_type": "execute_result"
    }
   ],
   "source": [
    "a[1:6]"
   ]
  },
  {
   "cell_type": "code",
   "execution_count": 107,
   "id": "692653cc",
   "metadata": {},
   "outputs": [
    {
     "data": {
      "text/plain": [
       "array([0, 6, 2, 8, 7])"
      ]
     },
     "execution_count": 107,
     "metadata": {},
     "output_type": "execute_result"
    }
   ],
   "source": [
    "a[:5]"
   ]
  },
  {
   "cell_type": "code",
   "execution_count": 108,
   "id": "269ba03a",
   "metadata": {},
   "outputs": [
    {
     "data": {
      "text/plain": [
       "array([10,  7,  9,  3,  8])"
      ]
     },
     "execution_count": 108,
     "metadata": {},
     "output_type": "execute_result"
    }
   ],
   "source": [
    "a[5:]"
   ]
  },
  {
   "cell_type": "markdown",
   "id": "ab04039f",
   "metadata": {},
   "source": [
    "## Indexing 2D array"
   ]
  },
  {
   "cell_type": "code",
   "execution_count": 111,
   "id": "e20bf598",
   "metadata": {},
   "outputs": [
    {
     "data": {
      "text/plain": [
       "array([[1, 2, 3],\n",
       "       [1, 2, 3],\n",
       "       [1, 2, 3]])"
      ]
     },
     "execution_count": 111,
     "metadata": {},
     "output_type": "execute_result"
    }
   ],
   "source": [
    "a_2s = numpy.array([[1, 2, 3], [4, 5, 6], [7, 8, 9]])\n",
    "a_2s"
   ]
  },
  {
   "cell_type": "code",
   "execution_count": 112,
   "id": "58e460ed",
   "metadata": {},
   "outputs": [
    {
     "data": {
      "text/plain": [
       "array([1, 2, 3])"
      ]
     },
     "execution_count": 112,
     "metadata": {},
     "output_type": "execute_result"
    }
   ],
   "source": [
    "a_2s[0]"
   ]
  }
 ],
 "metadata": {
  "kernelspec": {
   "display_name": "Python 3 (ipykernel)",
   "language": "python",
   "name": "python3"
  },
  "language_info": {
   "codemirror_mode": {
    "name": "ipython",
    "version": 3
   },
   "file_extension": ".py",
   "mimetype": "text/x-python",
   "name": "python",
   "nbconvert_exporter": "python",
   "pygments_lexer": "ipython3",
   "version": "3.9.13"
  }
 },
 "nbformat": 4,
 "nbformat_minor": 5
}
