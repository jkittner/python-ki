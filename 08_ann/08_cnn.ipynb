{
 "cells": [
  {
   "cell_type": "code",
   "execution_count": 64,
   "metadata": {},
   "outputs": [],
   "source": [
    "import matplotlib.pyplot as plt\n",
    "import numpy as np\n",
    "import tifffile as tiff\n",
    "from tensorflow import keras\n",
    "from tensorflow.keras.layers import Dense\n",
    "from tensorflow.keras.layers import Dropout\n",
    "from tensorflow.keras.layers.experimental.preprocessing import Normalization\n",
    "from tensorflow.keras.models import Sequential"
   ]
  },
  {
   "cell_type": "code",
   "execution_count": 65,
   "metadata": {},
   "outputs": [],
   "source": [
    "x_train = tiff.imread('../data/soil_sealing/x_train.tif')\n",
    "y_train = tiff.imread('../data/soil_sealing/y_train.tif')\n",
    "x_test = tiff.imread('../data/soil_sealing/x_test.tif')\n",
    "y_test = tiff.imread('../data/soil_sealing/y_test.tif')"
   ]
  },
  {
   "cell_type": "markdown",
   "metadata": {},
   "source": [
    "### inverse 0 and 1"
   ]
  },
  {
   "cell_type": "code",
   "execution_count": 66,
   "metadata": {},
   "outputs": [
    {
     "name": "stdout",
     "output_type": "stream",
     "text": [
      "(array([0, 1], dtype=int32), array([ 99106, 118694], dtype=int64))\n",
      "(array([0, 1], dtype=int32), array([50196, 35644], dtype=int64))\n"
     ]
    }
   ],
   "source": [
    "print(np.unique(y_train, return_counts=True))\n",
    "print(np.unique(y_test, return_counts=True))"
   ]
  },
  {
   "cell_type": "markdown",
   "metadata": {},
   "source": [
    "### now it should be flipped"
   ]
  },
  {
   "cell_type": "code",
   "execution_count": 67,
   "metadata": {},
   "outputs": [
    {
     "name": "stdout",
     "output_type": "stream",
     "text": [
      "(array([0, 1], dtype=int32), array([118694,  99106], dtype=int64))\n"
     ]
    },
    {
     "data": {
      "text/plain": [
       "(array([0, 1], dtype=int32), array([35644, 50196], dtype=int64))"
      ]
     },
     "execution_count": 67,
     "metadata": {},
     "output_type": "execute_result"
    }
   ],
   "source": [
    "y_train = np.where((y_train == 0) | (y_train == 1), y_train ^ 1, y_train)\n",
    "print(np.unique(y_train, return_counts=True))\n",
    "\n",
    "y_test = np.where((y_test == 0) | (y_test == 1), y_test ^ 1, y_test)\n",
    "np.unique(y_test, return_counts=True)"
   ]
  },
  {
   "cell_type": "markdown",
   "metadata": {},
   "source": [
    "### reshaping"
   ]
  },
  {
   "cell_type": "code",
   "execution_count": 68,
   "metadata": {},
   "outputs": [],
   "source": [
    "x_train_reshaped = x_train.reshape(\n",
    "    x_train.shape[0] * x_train.shape[1],\n",
    "    x_train.shape[2],\n",
    ")\n",
    "y_train_reshaped = y_train.reshape(y_train.shape[0] * y_train.shape[1])\n",
    "\n",
    "x_test_reshaped = x_test.reshape(\n",
    "    x_test.shape[0] * x_test.shape[1],\n",
    "    x_test.shape[2],\n",
    ")\n",
    "y_test_reshaped = y_test.reshape(y_test.shape[0] * y_test.shape[1])"
   ]
  },
  {
   "cell_type": "markdown",
   "metadata": {},
   "source": [
    "### build model"
   ]
  },
  {
   "cell_type": "code",
   "execution_count": 69,
   "metadata": {},
   "outputs": [],
   "source": [
    "layer = Normalization()\n",
    "layer.adapt(x_train_reshaped)"
   ]
  },
  {
   "cell_type": "code",
   "execution_count": 71,
   "metadata": {},
   "outputs": [
    {
     "name": "stdout",
     "output_type": "stream",
     "text": [
      "Epoch 1/10\n",
      "6807/6807 [==============================] - 49s 7ms/step - loss: 0.2259 - accuracy: 0.9196\n",
      "Epoch 2/10\n",
      "6807/6807 [==============================] - 50s 7ms/step - loss: 0.2838 - accuracy: 0.9193\n",
      "Epoch 3/10\n",
      "6807/6807 [==============================] - 49s 7ms/step - loss: 0.3384 - accuracy: 0.9192\n",
      "Epoch 4/10\n",
      "6807/6807 [==============================] - 48s 7ms/step - loss: 0.2828 - accuracy: 0.9183\n",
      "Epoch 5/10\n",
      "6807/6807 [==============================] - 49s 7ms/step - loss: 0.3516 - accuracy: 0.9184\n",
      "Epoch 6/10\n",
      "6807/6807 [==============================] - 51s 7ms/step - loss: 0.3033 - accuracy: 0.9184\n",
      "Epoch 7/10\n",
      "6807/6807 [==============================] - 49s 7ms/step - loss: 0.3315 - accuracy: 0.9185\n",
      "Epoch 8/10\n",
      "6807/6807 [==============================] - 50s 7ms/step - loss: 0.3234 - accuracy: 0.9183\n",
      "Epoch 9/10\n",
      "6807/6807 [==============================] - 49s 7ms/step - loss: 0.3673 - accuracy: 0.9179\n",
      "Epoch 10/10\n",
      "6807/6807 [==============================] - 50s 7ms/step - loss: 0.3132 - accuracy: 0.9178\n"
     ]
    }
   ],
   "source": [
    "model = Sequential()\n",
    "model.add(layer)\n",
    "model.add(Dense(64, activation='relu', input_shape=(10,)))\n",
    "model.add(Dropout(rate=0.1))\n",
    "model.add(Dense(128, activation='relu'))\n",
    "model.add(Dropout(rate=0.1))\n",
    "model.add(Dense(256, activation='relu'))\n",
    "model.add(Dense(1, activation='sigmoid'))\n",
    "\n",
    "# different to regression, because it's a classification\n",
    "optimizer = keras.optimizers.RMSprop(learning_rate=0.008)\n",
    "model.compile(\n",
    "    optimizer=optimizer,\n",
    "    loss='binary_crossentropy',\n",
    "    metrics=['accuracy'],\n",
    ")\n",
    "history = model.fit(x_train_reshaped, y_train_reshaped, epochs=10)"
   ]
  },
  {
   "cell_type": "code",
   "execution_count": 59,
   "metadata": {},
   "outputs": [
    {
     "data": {
      "image/png": "[encoded data removed]",
      "text/plain": [
       "<Figure size 640x480 with 1 Axes>"
      ]
     },
     "metadata": {},
     "output_type": "display_data"
    }
   ],
   "source": [
    "#  0.9267\n",
    "plt.xlabel('Epoch Number')\n",
    "plt.ylabel('Loss Magnitude')\n",
    "plt.plot(history.history['loss'])\n",
    "plt.plot(history.history['accuracy'])\n",
    "plt.show()"
   ]
  },
  {
   "cell_type": "markdown",
   "metadata": {},
   "source": [
    "### Evalute on validation data"
   ]
  },
  {
   "cell_type": "code",
   "execution_count": 60,
   "metadata": {},
   "outputs": [
    {
     "name": "stdout",
     "output_type": "stream",
     "text": [
      "10/10 [==============================] - 0s 17ms/step - loss: 0.2379 - accuracy: 0.9020\n"
     ]
    },
    {
     "data": {
      "text/plain": [
       "[0.2379174530506134, 0.901957094669342]"
      ]
     },
     "execution_count": 60,
     "metadata": {},
     "output_type": "execute_result"
    }
   ],
   "source": [
    "model.evaluate(x_test, y_test)"
   ]
  },
  {
   "cell_type": "markdown",
   "metadata": {},
   "source": [
    "### predict some data"
   ]
  },
  {
   "cell_type": "code",
   "execution_count": 61,
   "metadata": {},
   "outputs": [
    {
     "name": "stdout",
     "output_type": "stream",
     "text": [
      "real class [0 0 0 0 0 1 1 1 0 0 0 0 0 0 0 1 0 0 0 0 0 0 1 1 1 1 1 1 1 1 0 0 1 0 0 0 0\n",
      " 0 0 0 0 0 0 0 0 0 0 0 0 0 0 0 0 0 0 0 0 0 0 0 0 0 0 0 0 0 0 0 0 0 0 0 1 1\n",
      " 1 1 1 1 1 1 1 1 1 1 1 1 1 1 1 1 1 1 0 0 0 0 0 0 0 0 1 1 0 0 1 1 1 1 1 1 1\n",
      " 1 1 1 1 1 1 0 0 0 1 1 1 1 1 1 1 0 0 0 0 1 1 1 1 0 1 1 1 0 0 0 0 0 0 0 0 1\n",
      " 0 1 1 1 1 1 1 1 1 1 1 1 1 1 1 0 0 0 0 0 0 0 0 0 1 1 1 1 1 1 1 1 1 1 1 1 1\n",
      " 1 1 1 1 1 1 1 1 1 1 1 1 1 1 1 1 1 1 1 1 1 1 1 1 1 1 1 1 1 1 1 1 1 1 1 1 1\n",
      " 1 1 1 1 1 0 0 1 1 1 1 1 1 1 1 1 1 1 1 1 1 1 1 1 1 1 1 1 0 0 0 0 1 1 1 1 1\n",
      " 1 1 1 1 1 1 1 1 1 1 1 1 1 0 0 0 0 0 1 1 1 1 1 1 1 1 1 1 1 1 1 1 1 1 1 1 1]\n"
     ]
    }
   ],
   "source": [
    "feature = 27\n",
    "print(f'real class {y_test_reshaped[feature]}')"
   ]
  },
  {
   "cell_type": "code",
   "execution_count": null,
   "metadata": {},
   "outputs": [],
   "source": [
    "model.predict(x_test[feature, :].reshape(1, -1))"
   ]
  },
  {
   "cell_type": "markdown",
   "metadata": {},
   "source": [
    "## turn `y_test` and `y_test_pred` into images"
   ]
  },
  {
   "cell_type": "code",
   "execution_count": 72,
   "metadata": {},
   "outputs": [
    {
     "name": "stdout",
     "output_type": "stream",
     "text": [
      "2683/2683 [==============================] - 5s 2ms/step\n"
     ]
    }
   ],
   "source": [
    "y_test_reshaped_new = y_test.reshape(290, 296)\n",
    "\n",
    "y_test_pred = model.predict(x_test_reshaped)\n",
    "y_test_pred = y_test_pred.reshape(290, 296)\n",
    "\n",
    "tiff.imsave('../data/probability_map.tif', y_test_pred)\n",
    "tiff.imsave('../data/y_test.tif', y_test)"
   ]
  }
 ],
 "metadata": {
  "interpreter": {
   "hash": "5a274f5bd04a396b8908bf1d1bfbb0d1e017dd743cd0931978365c9130448495"
  },
  "kernelspec": {
   "display_name": "Python 3.9.13 ('venv-tf')",
   "language": "python",
   "name": "python3"
  },
  "language_info": {
   "codemirror_mode": {
    "name": "ipython",
    "version": 3
   },
   "file_extension": ".py",
   "mimetype": "text/x-python",
   "name": "python",
   "nbconvert_exporter": "python",
   "pygments_lexer": "ipython3",
   "version": "3.9.13"
  },
  "orig_nbformat": 4
 },
 "nbformat": 4,
 "nbformat_minor": 2
}
