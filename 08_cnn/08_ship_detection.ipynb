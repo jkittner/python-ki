{
 "cells": [
  {
   "cell_type": "code",
   "execution_count": 94,
   "metadata": {},
   "outputs": [],
   "source": [
    "from __future__ import annotations\n",
    "\n",
    "import glob\n",
    "import os\n",
    "\n",
    "import matplotlib.pyplot as plt\n",
    "import numpy as np\n",
    "from PIL import Image\n",
    "from sklearn.model_selection import train_test_split\n",
    "try:  # not import, not whitespace\n",
    "    os.environ['CUDA_VISIBLE_DEVICES'] = '-1'\n",
    "    from tensorflow import keras\n",
    "except ImportError:\n",
    "    pass"
   ]
  },
  {
   "cell_type": "code",
   "execution_count": 95,
   "metadata": {},
   "outputs": [],
   "source": [
    "def read_images(path: str) -> list[str]:\n",
    "    files = glob.glob(path)\n",
    "    images: list[Image.Image] = []\n",
    "    for file in files:\n",
    "        image = Image.open(file)\n",
    "        image = np.array(image)[:, :, 0]  # select 1st channel\n",
    "        images.append(image)\n",
    "    return images"
   ]
  },
  {
   "cell_type": "code",
   "execution_count": 96,
   "metadata": {},
   "outputs": [],
   "source": [
    "ships = read_images('../data/Ship_Detection/00_Ships/*.png')\n",
    "no_ships = read_images(\n",
    "    '../data/Ship_Detection/00_NoShips/*.png',\n",
    ")"
   ]
  },
  {
   "cell_type": "code",
   "execution_count": 97,
   "metadata": {},
   "outputs": [
    {
     "data": {
      "text/plain": [
       "<matplotlib.image.AxesImage at 0x7f94f5d97250>"
      ]
     },
     "execution_count": 97,
     "metadata": {},
     "output_type": "execute_result"
    },
    {
     "data": {
      "image/png": "[encoded data removed]",
      "text/plain": [
       "<Figure size 640x480 with 1 Axes>"
      ]
     },
     "metadata": {},
     "output_type": "display_data"
    }
   ],
   "source": [
    "plt.imshow(ships[69])"
   ]
  },
  {
   "cell_type": "markdown",
   "metadata": {},
   "source": [
    "### turn list into array"
   ]
  },
  {
   "cell_type": "code",
   "execution_count": 98,
   "metadata": {},
   "outputs": [
    {
     "data": {
      "text/plain": [
       "(1349, 64, 64)"
      ]
     },
     "execution_count": 98,
     "metadata": {},
     "output_type": "execute_result"
    }
   ],
   "source": [
    "ships_array = np.asarray(ships)\n",
    "no_ships_array = np.asarray(no_ships)\n",
    "# we now have 1349 images with 64 x 64 pixels\n",
    "ships_array.shape"
   ]
  },
  {
   "cell_type": "code",
   "execution_count": 99,
   "metadata": {},
   "outputs": [],
   "source": [
    "# adding both images to one array\n",
    "x = np.concatenate([ships_array, no_ships_array])\n",
    "# now we need the y-layer (is it a ship or not )\n",
    "# this is one dimensional since it refers to the entire image\n",
    "y_ships = np.ones(len(ships_array))\n",
    "y_no_ships = np.zeros(len(no_ships_array))\n",
    "# combine the two again\n",
    "y = np.concatenate([y_ships, y_no_ships])\n",
    "x = x.reshape(-1, 64 * 64)"
   ]
  },
  {
   "cell_type": "code",
   "execution_count": 100,
   "metadata": {},
   "outputs": [
    {
     "data": {
      "text/plain": [
       "4096"
      ]
     },
     "execution_count": 100,
     "metadata": {},
     "output_type": "execute_result"
    }
   ],
   "source": [
    "x_train, x_test, y_train, y_test = train_test_split(\n",
    "    x, y,\n",
    "    test_size=0.2,\n",
    "    random_state=42,\n",
    "    shuffle=True,\n",
    ")\n",
    "x_train.shape[1]"
   ]
  },
  {
   "cell_type": "code",
   "execution_count": 103,
   "metadata": {},
   "outputs": [
    {
     "name": "stdout",
     "output_type": "stream",
     "text": [
      "Epoch 1/30\n",
      "67/67 - 2s - loss: 0.5450 - accuracy: 0.7752 - 2s/epoch - 24ms/step\n",
      "Epoch 2/30\n",
      "67/67 - 1s - loss: 0.3304 - accuracy: 0.8556 - 626ms/epoch - 9ms/step\n",
      "Epoch 3/30\n",
      "67/67 - 1s - loss: 0.2556 - accuracy: 0.8762 - 653ms/epoch - 10ms/step\n",
      "Epoch 4/30\n",
      "67/67 - 1s - loss: 0.2203 - accuracy: 0.9014 - 648ms/epoch - 10ms/step\n",
      "Epoch 5/30\n",
      "67/67 - 1s - loss: 0.1754 - accuracy: 0.9164 - 603ms/epoch - 9ms/step\n",
      "Epoch 6/30\n",
      "67/67 - 1s - loss: 0.1755 - accuracy: 0.9112 - 602ms/epoch - 9ms/step\n",
      "Epoch 7/30\n",
      "67/67 - 1s - loss: 0.1221 - accuracy: 0.9495 - 635ms/epoch - 9ms/step\n",
      "Epoch 8/30\n",
      "67/67 - 1s - loss: 0.1401 - accuracy: 0.9364 - 608ms/epoch - 9ms/step\n",
      "Epoch 9/30\n",
      "67/67 - 1s - loss: 0.1316 - accuracy: 0.9397 - 712ms/epoch - 11ms/step\n",
      "Epoch 10/30\n",
      "67/67 - 1s - loss: 0.1266 - accuracy: 0.9444 - 639ms/epoch - 10ms/step\n",
      "Epoch 11/30\n",
      "67/67 - 1s - loss: 0.2207 - accuracy: 0.9285 - 826ms/epoch - 12ms/step\n",
      "Epoch 12/30\n",
      "67/67 - 1s - loss: 0.2060 - accuracy: 0.9336 - 786ms/epoch - 12ms/step\n",
      "Epoch 13/30\n",
      "67/67 - 1s - loss: 0.1132 - accuracy: 0.9556 - 589ms/epoch - 9ms/step\n",
      "Epoch 14/30\n",
      "67/67 - 1s - loss: 0.1269 - accuracy: 0.9514 - 659ms/epoch - 10ms/step\n",
      "Epoch 15/30\n",
      "67/67 - 1s - loss: 0.1249 - accuracy: 0.9435 - 639ms/epoch - 10ms/step\n",
      "Epoch 16/30\n",
      "67/67 - 1s - loss: 0.0804 - accuracy: 0.9668 - 618ms/epoch - 9ms/step\n",
      "Epoch 17/30\n",
      "67/67 - 1s - loss: 0.0849 - accuracy: 0.9593 - 579ms/epoch - 9ms/step\n",
      "Epoch 18/30\n",
      "67/67 - 1s - loss: 0.0878 - accuracy: 0.9636 - 773ms/epoch - 12ms/step\n",
      "Epoch 19/30\n",
      "67/67 - 1s - loss: 0.0648 - accuracy: 0.9710 - 625ms/epoch - 9ms/step\n",
      "Epoch 20/30\n",
      "67/67 - 1s - loss: 0.0565 - accuracy: 0.9780 - 739ms/epoch - 11ms/step\n",
      "Epoch 21/30\n",
      "67/67 - 1s - loss: 0.0448 - accuracy: 0.9822 - 778ms/epoch - 12ms/step\n",
      "Epoch 22/30\n",
      "67/67 - 1s - loss: 0.0841 - accuracy: 0.9654 - 615ms/epoch - 9ms/step\n",
      "Epoch 23/30\n",
      "67/67 - 1s - loss: 0.0766 - accuracy: 0.9668 - 596ms/epoch - 9ms/step\n",
      "Epoch 24/30\n",
      "67/67 - 1s - loss: 0.0991 - accuracy: 0.9659 - 615ms/epoch - 9ms/step\n",
      "Epoch 25/30\n",
      "67/67 - 1s - loss: 0.0764 - accuracy: 0.9664 - 594ms/epoch - 9ms/step\n",
      "Epoch 26/30\n",
      "67/67 - 1s - loss: 0.1198 - accuracy: 0.9505 - 605ms/epoch - 9ms/step\n",
      "Epoch 27/30\n",
      "67/67 - 1s - loss: 0.0918 - accuracy: 0.9589 - 604ms/epoch - 9ms/step\n",
      "Epoch 28/30\n",
      "67/67 - 1s - loss: 0.0522 - accuracy: 0.9757 - 519ms/epoch - 8ms/step\n",
      "Epoch 29/30\n",
      "67/67 - 1s - loss: 0.0432 - accuracy: 0.9813 - 535ms/epoch - 8ms/step\n",
      "Epoch 30/30\n",
      "67/67 - 0s - loss: 0.0902 - accuracy: 0.9710 - 476ms/epoch - 7ms/step\n",
      "17/17 [==============================] - 0s 6ms/step - loss: 0.5173 - accuracy: 0.9196\n"
     ]
    },
    {
     "data": {
      "text/plain": [
       "[0.5172766447067261, 0.9196261763572693]"
      ]
     },
     "execution_count": 103,
     "metadata": {},
     "output_type": "execute_result"
    }
   ],
   "source": [
    "layer = keras.layers.experimental.preprocessing.Normalization()\n",
    "layer.adapt(x_train)\n",
    "\n",
    "model = keras.models.Sequential()\n",
    "model.add(layer)\n",
    "model.add(\n",
    "    keras.layers.Dense(64, activation='relu', input_shape=(x_train.shape[1],)),\n",
    ")\n",
    "model.add(keras.layers.Dense(128, activation='relu'))\n",
    "model.add(keras.layers.Dense(128, activation='relu'))\n",
    "\n",
    "# because it's binary ?!\n",
    "model.add(keras.layers.Dense(1, activation='sigmoid'))\n",
    "\n",
    "optimizer = keras.optimizers.Adam(learning_rate=0.0022)\n",
    "model.compile(\n",
    "    optimizer=optimizer,\n",
    "    loss='binary_crossentropy',\n",
    "    metrics=['accuracy'],\n",
    ")\n",
    "history = model.fit(x_train, y_train, epochs=30, verbose=2)\n",
    "model.evaluate(x_test, y_test)"
   ]
  },
  {
   "cell_type": "code",
   "execution_count": 104,
   "metadata": {},
   "outputs": [
    {
     "data": {
      "text/plain": [
       "[<matplotlib.lines.Line2D at 0x7f956cfcd820>]"
      ]
     },
     "execution_count": 104,
     "metadata": {},
     "output_type": "execute_result"
    },
    {
     "data": {
      "image/png": "[encoded data removed]",
      "text/plain": [
       "<Figure size 640x480 with 1 Axes>"
      ]
     },
     "metadata": {},
     "output_type": "display_data"
    }
   ],
   "source": [
    "plt.plot(history.history['loss'])\n",
    "plt.plot(history.history['accuracy'])"
   ]
  }
 ],
 "metadata": {
  "kernelspec": {
   "display_name": "Python 3.9.15 ('venv': venv)",
   "language": "python",
   "name": "python3"
  },
  "language_info": {
   "codemirror_mode": {
    "name": "ipython",
    "version": 3
   },
   "file_extension": ".py",
   "mimetype": "text/x-python",
   "name": "python",
   "nbconvert_exporter": "python",
   "pygments_lexer": "ipython3",
   "version": "3.9.15"
  },
  "orig_nbformat": 4,
  "vscode": {
   "interpreter": {
    "hash": "ad2c4701e7035aba853efbbfd5eb25f191458bb018cce931b41cba6962e4f15c"
   }
  }
 },
 "nbformat": 4,
 "nbformat_minor": 2
}
