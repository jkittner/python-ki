{
 "cells": [
  {
   "cell_type": "markdown",
   "id": "408d32b8",
   "metadata": {},
   "source": [
    "## Imports"
   ]
  },
  {
   "cell_type": "code",
   "execution_count": 26,
   "id": "cd4d6ff5",
   "metadata": {},
   "outputs": [],
   "source": [
    "# this is a hack to have pylance working with tensorflow and keras\n",
    "import matplotlib.pyplot as plt\n",
    "import numpy as np\n",
    "import tensorflow as tf\n",
    "keras = tf.keras"
   ]
  },
  {
   "cell_type": "markdown",
   "id": "0b4acdfc",
   "metadata": {},
   "source": [
    "## Load the internal MNIST data "
   ]
  },
  {
   "cell_type": "code",
   "execution_count": 14,
   "id": "3698b997",
   "metadata": {},
   "outputs": [],
   "source": [
    "(x_train, y_train), (x_test, y_test) = keras.datasets.mnist.load_data()"
   ]
  },
  {
   "cell_type": "markdown",
   "id": "a62b6ebf",
   "metadata": {},
   "source": [
    "## Get some information"
   ]
  },
  {
   "cell_type": "code",
   "execution_count": 15,
   "id": "5df6078e",
   "metadata": {},
   "outputs": [
    {
     "name": "stdout",
     "output_type": "stream",
     "text": [
      "(60000, 28, 28)\n",
      "(60000,)\n",
      "(10000, 28, 28)\n",
      "(10000,)\n"
     ]
    }
   ],
   "source": [
    "print(x_train.shape)\n",
    "print(y_train.shape)\n",
    "print(x_test.shape)\n",
    "print(y_test.shape)"
   ]
  },
  {
   "cell_type": "code",
   "execution_count": 39,
   "id": "3f818f77",
   "metadata": {},
   "outputs": [
    {
     "data": {
      "text/plain": [
       "<matplotlib.image.AxesImage at 0x25fffa032e0>"
      ]
     },
     "execution_count": 39,
     "metadata": {},
     "output_type": "execute_result"
    },
    {
     "data": {
      "image/png": "[encoded data removed]",
      "text/plain": [
       "<Figure size 640x480 with 1 Axes>"
      ]
     },
     "metadata": {},
     "output_type": "display_data"
    }
   ],
   "source": [
    "plt.imshow(x_train[69], cmap='Greys_r')"
   ]
  },
  {
   "cell_type": "markdown",
   "id": "9c4645f5",
   "metadata": {},
   "source": [
    "## Turn into a binary classification problem\n",
    "We only want to check whether the image we see is a 1 or not"
   ]
  },
  {
   "cell_type": "code",
   "execution_count": 18,
   "id": "d468c5c4",
   "metadata": {},
   "outputs": [],
   "source": [
    "y_train_bool = y_train == 1\n",
    "y_test_bool = y_test == 1"
   ]
  },
  {
   "cell_type": "code",
   "execution_count": 20,
   "id": "52dd3635",
   "metadata": {},
   "outputs": [
    {
     "data": {
      "text/plain": [
       "array([False, False,  True, ..., False, False, False])"
      ]
     },
     "execution_count": 20,
     "metadata": {},
     "output_type": "execute_result"
    }
   ],
   "source": [
    "y_test_bool"
   ]
  },
  {
   "cell_type": "markdown",
   "id": "ea5b15dc",
   "metadata": {},
   "source": [
    "## Scale x data"
   ]
  },
  {
   "cell_type": "code",
   "execution_count": 22,
   "id": "679c915e",
   "metadata": {},
   "outputs": [
    {
     "data": {
      "text/plain": [
       "255"
      ]
     },
     "execution_count": 22,
     "metadata": {},
     "output_type": "execute_result"
    }
   ],
   "source": [
    "np.max(x_train)"
   ]
  },
  {
   "cell_type": "code",
   "execution_count": null,
   "id": "d52286e5",
   "metadata": {},
   "outputs": [],
   "source": [
    "x_train_scaled = x_train/255\n",
    "x_test_scaled = x_test/255\n",
    "x_test_scaled"
   ]
  },
  {
   "cell_type": "markdown",
   "id": "1391e1d6",
   "metadata": {},
   "source": [
    "## Built the model"
   ]
  },
  {
   "cell_type": "code",
   "execution_count": 29,
   "id": "faf99c0c",
   "metadata": {},
   "outputs": [
    {
     "name": "stdout",
     "output_type": "stream",
     "text": [
      "Model: \"sequential_2\"\n",
      "_________________________________________________________________\n",
      " Layer (type)                Output Shape              Param #   \n",
      "=================================================================\n",
      " conv2d_4 (Conv2D)           (None, 28, 28, 32)        320       \n",
      "                                                                 \n",
      " conv2d_5 (Conv2D)           (None, 26, 26, 64)        18496     \n",
      "                                                                 \n",
      " flatten_2 (Flatten)         (None, 43264)             0         \n",
      "                                                                 \n",
      " dense_2 (Dense)             (None, 1)                 43265     \n",
      "                                                                 \n",
      "=================================================================\n",
      "Total params: 62,081\n",
      "Trainable params: 62,081\n",
      "Non-trainable params: 0\n",
      "_________________________________________________________________\n",
      "Epoch 1/2\n",
      "1875/1875 [==============================] - 20s 11ms/step - loss: 0.0228 - accuracy: 0.9928\n",
      "Epoch 2/2\n",
      "1875/1875 [==============================] - 20s 11ms/step - loss: 0.0101 - accuracy: 0.9970\n"
     ]
    }
   ],
   "source": [
    "model = keras.models.Sequential()\n",
    "model.add(\n",
    "    keras.layers.Conv2D(\n",
    "        filters=32,\n",
    "        kernel_size=(3, 3),\n",
    "        padding='same',\n",
    "        activation='relu',\n",
    "        input_shape=(28, 28, 1),\n",
    "    ),\n",
    ")\n",
    "model.add(\n",
    "    keras.layers.Conv2D(\n",
    "        filters=64,\n",
    "        kernel_size=(3, 3),\n",
    "        activation='relu',\n",
    "    ),\n",
    ")\n",
    "model.add(keras.layers.Flatten())\n",
    "model.add(keras.layers.Dense(1, activation='sigmoid'))\n",
    "\n",
    "opt = keras.optimizers.Adam(learning_rate=0.001)\n",
    "model.compile(optimizer=opt, loss='binary_crossentropy', metrics=['accuracy'])\n",
    "\n",
    "model.summary()\n",
    "\n",
    "history = model.fit(x_train_scaled, y_train_bool, epochs=2)"
   ]
  },
  {
   "cell_type": "markdown",
   "id": "633b9d49",
   "metadata": {},
   "source": [
    "## Evaluate the model"
   ]
  },
  {
   "cell_type": "code",
   "execution_count": 30,
   "id": "cc982671",
   "metadata": {},
   "outputs": [
    {
     "name": "stdout",
     "output_type": "stream",
     "text": [
      "1875/1875 [==============================] - 9s 5ms/step - loss: 0.0061 - accuracy: 0.9980\n"
     ]
    },
    {
     "data": {
      "text/plain": [
       "[0.006130312103778124, 0.9980000257492065]"
      ]
     },
     "execution_count": 30,
     "metadata": {},
     "output_type": "execute_result"
    }
   ],
   "source": [
    "# Get training data accuracy\n",
    "model.evaluate(x_train_scaled, y_train_bool)"
   ]
  },
  {
   "cell_type": "code",
   "execution_count": 41,
   "id": "dcadc302",
   "metadata": {},
   "outputs": [
    {
     "name": "stdout",
     "output_type": "stream",
     "text": [
      "313/313 [==============================] - 2s 5ms/step - loss: 0.0064 - accuracy: 0.9978\n"
     ]
    },
    {
     "data": {
      "text/plain": [
       "[0.006372577976435423, 0.9977999925613403]"
      ]
     },
     "execution_count": 41,
     "metadata": {},
     "output_type": "execute_result"
    }
   ],
   "source": [
    "# Get testing data accuracy\n",
    "model.evaluate(x_test_scaled, y_test_bool)"
   ]
  },
  {
   "cell_type": "markdown",
   "id": "ca627d40",
   "metadata": {},
   "source": [
    "## Conclusion\n",
    "..."
   ]
  },
  {
   "cell_type": "code",
   "execution_count": null,
   "id": "1bdc8a13",
   "metadata": {},
   "outputs": [],
   "source": []
  }
 ],
 "metadata": {
  "interpreter": {
   "hash": "5a274f5bd04a396b8908bf1d1bfbb0d1e017dd743cd0931978365c9130448495"
  },
  "kernelspec": {
   "display_name": "Python 3.9.13 ('venv-tf')",
   "language": "python",
   "name": "python3"
  },
  "language_info": {
   "codemirror_mode": {
    "name": "ipython",
    "version": 3
   },
   "file_extension": ".py",
   "mimetype": "text/x-python",
   "name": "python",
   "nbconvert_exporter": "python",
   "pygments_lexer": "ipython3",
   "version": "3.9.13"
  }
 },
 "nbformat": 4,
 "nbformat_minor": 5
}
