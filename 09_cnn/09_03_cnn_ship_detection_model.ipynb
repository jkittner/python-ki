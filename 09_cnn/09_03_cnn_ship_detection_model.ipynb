{
 "cells": [
  {
   "cell_type": "markdown",
   "id": "9311e345",
   "metadata": {},
   "source": [
    "## Imports"
   ]
  },
  {
   "cell_type": "code",
   "execution_count": 1,
   "id": "52136a4d",
   "metadata": {},
   "outputs": [],
   "source": [
    "# this is a hack to have pylance working with tensorflow and keras\n",
    "import glob\n",
    "\n",
    "import matplotlib.pyplot as plt\n",
    "import numpy as np\n",
    "import tensorflow as tf\n",
    "from PIL import Image\n",
    "from sklearn.model_selection import train_test_split\n",
    "keras = tf.keras"
   ]
  },
  {
   "cell_type": "markdown",
   "id": "c1a5e9e4",
   "metadata": {},
   "source": [
    "# Data Preparation\n",
    "\n",
    "## Function to read all images"
   ]
  },
  {
   "cell_type": "code",
   "execution_count": 2,
   "id": "64e6c3f1",
   "metadata": {},
   "outputs": [],
   "source": [
    "def read_images(glob_pattern: str) -> list[str]:\n",
    "    files = glob.glob(glob_pattern)\n",
    "    images: list[Image.Image] = []\n",
    "    for file in files:\n",
    "        image = Image.open(file)\n",
    "        image = np.array(image)[:, :, 0]  # select 1st channel\n",
    "        images.append(image)\n",
    "    return images"
   ]
  },
  {
   "cell_type": "markdown",
   "id": "8173c4aa",
   "metadata": {},
   "source": [
    "## Read the images with the function above"
   ]
  },
  {
   "cell_type": "code",
   "execution_count": 3,
   "id": "b7ff2d69",
   "metadata": {},
   "outputs": [],
   "source": [
    "ships_list = read_images('../data/ship_detection/00_Ships/*.png')\n",
    "no_ships_list = read_images('../data/ship_detection/00_NoShips/*.png')"
   ]
  },
  {
   "cell_type": "markdown",
   "id": "51cebfa9",
   "metadata": {},
   "source": [
    "## Check how many images were loaded"
   ]
  },
  {
   "cell_type": "code",
   "execution_count": 4,
   "id": "8c549807",
   "metadata": {},
   "outputs": [
    {
     "data": {
      "text/plain": [
       "1800"
      ]
     },
     "execution_count": 4,
     "metadata": {},
     "output_type": "execute_result"
    }
   ],
   "source": [
    "len(no_ships_list)"
   ]
  },
  {
   "cell_type": "markdown",
   "id": "eb7cbf6c",
   "metadata": {},
   "source": [
    "## Plot a random image to check if everything worked so far"
   ]
  },
  {
   "cell_type": "code",
   "execution_count": 5,
   "id": "61560ab6",
   "metadata": {},
   "outputs": [
    {
     "data": {
      "text/plain": [
       "<matplotlib.image.AxesImage at 0x222d5dfd250>"
      ]
     },
     "execution_count": 5,
     "metadata": {},
     "output_type": "execute_result"
    },
    {
     "data": {
      "image/png": "[encoded data removed]",
      "text/plain": [
       "<Figure size 640x480 with 1 Axes>"
      ]
     },
     "metadata": {},
     "output_type": "display_data"
    }
   ],
   "source": [
    "plt.imshow(ships_list[150])"
   ]
  },
  {
   "cell_type": "markdown",
   "id": "0cb04970",
   "metadata": {},
   "source": [
    "## Turn data into concatenated arrays to create x data (all images in one variable)"
   ]
  },
  {
   "cell_type": "code",
   "execution_count": 6,
   "id": "51b03362",
   "metadata": {},
   "outputs": [
    {
     "data": {
      "text/plain": [
       "(1800, 64, 64)"
      ]
     },
     "execution_count": 6,
     "metadata": {},
     "output_type": "execute_result"
    }
   ],
   "source": [
    "ships = np.asarray(ships_list)\n",
    "no_ships = np.asarray(no_ships_list)\n",
    "no_ships.shape"
   ]
  },
  {
   "cell_type": "code",
   "execution_count": 7,
   "id": "d5d6e635",
   "metadata": {},
   "outputs": [
    {
     "data": {
      "text/plain": [
       "(3149, 64, 64)"
      ]
     },
     "execution_count": 7,
     "metadata": {},
     "output_type": "execute_result"
    }
   ],
   "source": [
    "x = np.concatenate([ships, no_ships])\n",
    "x.shape"
   ]
  },
  {
   "cell_type": "markdown",
   "id": "07f6562e",
   "metadata": {},
   "source": [
    "## Create y data (0 for no ships and 1 for ships)"
   ]
  },
  {
   "cell_type": "code",
   "execution_count": 8,
   "id": "a2ef9c4f",
   "metadata": {},
   "outputs": [
    {
     "data": {
      "text/plain": [
       "(3149,)"
      ]
     },
     "execution_count": 8,
     "metadata": {},
     "output_type": "execute_result"
    }
   ],
   "source": [
    "y_ships = np.ones(len(ships))\n",
    "y_no_ships = np.zeros(len(no_ships))\n",
    "\n",
    "y = np.concatenate([y_ships, y_no_ships])\n",
    "y.shape"
   ]
  },
  {
   "cell_type": "markdown",
   "id": "27dca1af",
   "metadata": {},
   "source": [
    "## Train test split"
   ]
  },
  {
   "cell_type": "code",
   "execution_count": 9,
   "id": "a142e814",
   "metadata": {},
   "outputs": [],
   "source": [
    "x_train, x_test, y_train, y_test = train_test_split(\n",
    "    x, y,\n",
    "    test_size=0.2,\n",
    "    random_state=42,\n",
    "    shuffle=True,\n",
    ")"
   ]
  },
  {
   "cell_type": "markdown",
   "id": "342fa8ed",
   "metadata": {},
   "source": [
    "## Scale the data\n",
    "\n",
    "In CNNs scaling the Input data to a range between 0 and 1 is not as important as in ANNs.\n",
    "</br>\n",
    "However, it usually does not do any harm to our network, so it is usually done.\n",
    "</br>We can easily scale the input data between 0 and 1 by dividing it through the max pixel value. 8bit = 256 values (max=255)"
   ]
  },
  {
   "cell_type": "code",
   "execution_count": 10,
   "id": "fe1cb0ca",
   "metadata": {},
   "outputs": [],
   "source": [
    "x_train_scaled = x_train/np.max(x_train)\n",
    "x_test_scaled = x_test/np.max(x_train)"
   ]
  },
  {
   "cell_type": "code",
   "execution_count": 11,
   "id": "cb79a73f",
   "metadata": {},
   "outputs": [],
   "source": [
    "y_train_scaled = y_train/np.max(y_train)\n",
    "y_test_scaled = y_test/np.max(y_test)"
   ]
  },
  {
   "cell_type": "markdown",
   "id": "7da84c43",
   "metadata": {},
   "source": [
    "***\n",
    "# Built a model"
   ]
  },
  {
   "cell_type": "code",
   "execution_count": null,
   "id": "0a308dd9",
   "metadata": {},
   "outputs": [],
   "source": [
    "# Conv2D?"
   ]
  },
  {
   "cell_type": "code",
   "execution_count": 12,
   "id": "9500a0f6",
   "metadata": {},
   "outputs": [
    {
     "name": "stdout",
     "output_type": "stream",
     "text": [
      "Model: \"sequential\"\n",
      "_________________________________________________________________\n",
      " Layer (type)                Output Shape              Param #   \n",
      "=================================================================\n",
      " conv2d (Conv2D)             (None, 64, 64, 32)        320       \n",
      "                                                                 \n",
      " max_pooling2d (MaxPooling2D  (None, 32, 32, 32)       0         \n",
      " )                                                               \n",
      "                                                                 \n",
      " dropout (Dropout)           (None, 32, 32, 32)        0         \n",
      "                                                                 \n",
      " conv2d_1 (Conv2D)           (None, 30, 30, 64)        18496     \n",
      "                                                                 \n",
      " max_pooling2d_1 (MaxPooling  (None, 15, 15, 64)       0         \n",
      " 2D)                                                             \n",
      "                                                                 \n",
      " dropout_1 (Dropout)         (None, 15, 15, 64)        0         \n",
      "                                                                 \n",
      " flatten (Flatten)           (None, 14400)             0         \n",
      "                                                                 \n",
      " dense (Dense)               (None, 1)                 14401     \n",
      "                                                                 \n",
      "=================================================================\n",
      "Total params: 33,217\n",
      "Trainable params: 33,217\n",
      "Non-trainable params: 0\n",
      "_________________________________________________________________\n",
      "Epoch 1/20\n",
      "79/79 [==============================] - 6s 22ms/step - loss: 0.5043 - accuracy: 0.7455\n",
      "Epoch 2/20\n",
      "79/79 [==============================] - 1s 18ms/step - loss: 0.3413 - accuracy: 0.8626\n",
      "Epoch 3/20\n",
      "79/79 [==============================] - 1s 18ms/step - loss: 0.2465 - accuracy: 0.9051\n",
      "Epoch 4/20\n",
      "79/79 [==============================] - 1s 18ms/step - loss: 0.1872 - accuracy: 0.9349\n",
      "Epoch 5/20\n",
      "79/79 [==============================] - 1s 19ms/step - loss: 0.1436 - accuracy: 0.9536\n",
      "Epoch 6/20\n",
      "79/79 [==============================] - 1s 19ms/step - loss: 0.1286 - accuracy: 0.9623\n",
      "Epoch 7/20\n",
      "79/79 [==============================] - 1s 18ms/step - loss: 0.0962 - accuracy: 0.9702\n",
      "Epoch 8/20\n",
      "79/79 [==============================] - 1s 19ms/step - loss: 0.0871 - accuracy: 0.9754\n",
      "Epoch 9/20\n",
      "79/79 [==============================] - 1s 19ms/step - loss: 0.0641 - accuracy: 0.9817\n",
      "Epoch 10/20\n",
      "79/79 [==============================] - 1s 19ms/step - loss: 0.0549 - accuracy: 0.9825\n",
      "Epoch 11/20\n",
      "79/79 [==============================] - 1s 18ms/step - loss: 0.0719 - accuracy: 0.9798\n",
      "Epoch 12/20\n",
      "79/79 [==============================] - 1s 18ms/step - loss: 0.0762 - accuracy: 0.9778\n",
      "Epoch 13/20\n",
      "79/79 [==============================] - 2s 19ms/step - loss: 0.0461 - accuracy: 0.9849\n",
      "Epoch 14/20\n",
      "79/79 [==============================] - 1s 18ms/step - loss: 0.0397 - accuracy: 0.9893\n",
      "Epoch 15/20\n",
      "79/79 [==============================] - 1s 18ms/step - loss: 0.0270 - accuracy: 0.9933\n",
      "Epoch 16/20\n",
      "79/79 [==============================] - 1s 18ms/step - loss: 0.0241 - accuracy: 0.9933\n",
      "Epoch 17/20\n",
      "79/79 [==============================] - 1s 18ms/step - loss: 0.0265 - accuracy: 0.9917\n",
      "Epoch 18/20\n",
      "79/79 [==============================] - 1s 17ms/step - loss: 0.0203 - accuracy: 0.9940\n",
      "Epoch 19/20\n",
      "79/79 [==============================] - 1s 18ms/step - loss: 0.0190 - accuracy: 0.9952\n",
      "Epoch 20/20\n",
      "79/79 [==============================] - 1s 19ms/step - loss: 0.0193 - accuracy: 0.9948\n"
     ]
    }
   ],
   "source": [
    "model = keras.models.Sequential()\n",
    "\n",
    "model.add(\n",
    "    keras.layers.Conv2D(\n",
    "        filters=32, kernel_size=(3, 3),\n",
    "        padding='same', activation='relu', input_shape=(64, 64, 1),\n",
    "    ),\n",
    ")\n",
    "model.add(keras.layers.MaxPooling2D())\n",
    "model.add(keras.layers.Dropout(rate=0.2))\n",
    "\n",
    "model.add(\n",
    "    keras.layers.Conv2D(\n",
    "        filters=64, kernel_size=(3, 3), activation='relu',\n",
    "    ),\n",
    ")\n",
    "model.add(keras.layers.MaxPooling2D())\n",
    "model.add(keras.layers.Dropout(rate=0.2))\n",
    "\n",
    "model.add(keras.layers.Flatten())\n",
    "model.add(keras.layers.Dense(1, activation='sigmoid'))\n",
    "\n",
    "opt = keras.optimizers.Adam(learning_rate=0.001)\n",
    "model.compile(optimizer=opt, loss='binary_crossentropy', metrics=['accuracy'])\n",
    "model.summary()\n",
    "history = model.fit(x_train_scaled, y_train_scaled, epochs=20)"
   ]
  },
  {
   "cell_type": "markdown",
   "id": "18525914",
   "metadata": {},
   "source": [
    "## Plot the learning history"
   ]
  },
  {
   "cell_type": "code",
   "execution_count": 13,
   "id": "0e6325d7",
   "metadata": {},
   "outputs": [
    {
     "data": {
      "text/plain": [
       "[<matplotlib.lines.Line2D at 0x222bd0ffc10>]"
      ]
     },
     "execution_count": 13,
     "metadata": {},
     "output_type": "execute_result"
    },
    {
     "data": {
      "image/png": "[encoded data removed]",
      "text/plain": [
       "<Figure size 640x480 with 1 Axes>"
      ]
     },
     "metadata": {},
     "output_type": "display_data"
    }
   ],
   "source": [
    "plt.plot(history.history['loss'])\n",
    "plt.plot(history.history['accuracy'])"
   ]
  },
  {
   "cell_type": "markdown",
   "id": "61210b09",
   "metadata": {},
   "source": [
    "## Evaluate the model"
   ]
  },
  {
   "cell_type": "code",
   "execution_count": 14,
   "id": "1c35bc7c",
   "metadata": {},
   "outputs": [
    {
     "name": "stdout",
     "output_type": "stream",
     "text": [
      "79/79 [==============================] - 1s 8ms/step - loss: 0.0246 - accuracy: 0.9980\n"
     ]
    },
    {
     "data": {
      "text/plain": [
       "[0.024616455659270287, 0.9980151057243347]"
      ]
     },
     "execution_count": 14,
     "metadata": {},
     "output_type": "execute_result"
    }
   ],
   "source": [
    "# Get trainings data accuracy\n",
    "model.evaluate(x_train_scaled, y_train_scaled)"
   ]
  },
  {
   "cell_type": "code",
   "execution_count": 15,
   "id": "25bede38",
   "metadata": {},
   "outputs": [
    {
     "name": "stdout",
     "output_type": "stream",
     "text": [
      "20/20 [==============================] - 0s 14ms/step - loss: 0.2599 - accuracy: 0.9635\n"
     ]
    },
    {
     "data": {
      "text/plain": [
       "[0.25990360975265503, 0.9634920358657837]"
      ]
     },
     "execution_count": 15,
     "metadata": {},
     "output_type": "execute_result"
    }
   ],
   "source": [
    "# Get testing data accuracy\n",
    "model.evaluate(x_test_scaled, y_test_scaled)"
   ]
  },
  {
   "cell_type": "markdown",
   "id": "717e0d6f",
   "metadata": {},
   "source": [
    "## Check some random predicted samples"
   ]
  },
  {
   "cell_type": "code",
   "execution_count": 17,
   "id": "32526dda",
   "metadata": {},
   "outputs": [
    {
     "name": "stdout",
     "output_type": "stream",
     "text": [
      "Real class: 1.0\n",
      "Input feature:\n"
     ]
    },
    {
     "data": {
      "text/plain": [
       "<matplotlib.image.AxesImage at 0x222f427f160>"
      ]
     },
     "execution_count": 17,
     "metadata": {},
     "output_type": "execute_result"
    },
    {
     "data": {
      "image/png": "[encoded data removed]",
      "text/plain": [
       "<Figure size 640x480 with 1 Axes>"
      ]
     },
     "metadata": {},
     "output_type": "display_data"
    }
   ],
   "source": [
    "feature = 51  # 29, 51\n",
    "print(f'Real class: {y_test_scaled[feature]}')\n",
    "print('Input feature:')\n",
    "plt.imshow(x_test_scaled[feature, :, :])"
   ]
  },
  {
   "cell_type": "code",
   "execution_count": 18,
   "id": "3dfcc78d",
   "metadata": {
    "scrolled": false
   },
   "outputs": [
    {
     "name": "stdout",
     "output_type": "stream",
     "text": [
      "1/1 [==============================] - 0s 179ms/step\n"
     ]
    },
    {
     "data": {
      "text/plain": [
       "array([[0.9999995]], dtype=float32)"
      ]
     },
     "execution_count": 18,
     "metadata": {},
     "output_type": "execute_result"
    }
   ],
   "source": [
    "model.predict(x_test_scaled[feature, :, :].reshape(1, 64, 64, 1))"
   ]
  },
  {
   "cell_type": "markdown",
   "id": "e81ec4ae",
   "metadata": {},
   "source": [
    "## Save the model"
   ]
  },
  {
   "cell_type": "code",
   "execution_count": 19,
   "id": "1cc1736d",
   "metadata": {},
   "outputs": [],
   "source": [
    "model.save('ship_detection_model.h5')"
   ]
  }
 ],
 "metadata": {
  "interpreter": {
   "hash": "5a274f5bd04a396b8908bf1d1bfbb0d1e017dd743cd0931978365c9130448495"
  },
  "kernelspec": {
   "display_name": "Python 3.9.13 ('venv-tf')",
   "language": "python",
   "name": "python3"
  },
  "language_info": {
   "codemirror_mode": {
    "name": "ipython",
    "version": 3
   },
   "file_extension": ".py",
   "mimetype": "text/x-python",
   "name": "python",
   "nbconvert_exporter": "python",
   "pygments_lexer": "ipython3",
   "version": "3.9.13"
  }
 },
 "nbformat": 4,
 "nbformat_minor": 5
}
