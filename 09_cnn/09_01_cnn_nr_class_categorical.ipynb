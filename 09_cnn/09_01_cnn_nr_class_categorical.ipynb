{
 "cells": [
  {
   "cell_type": "markdown",
   "id": "5bb7c6bf",
   "metadata": {},
   "source": [
    "## Imports"
   ]
  },
  {
   "cell_type": "code",
   "execution_count": 56,
   "id": "cd4d6ff5",
   "metadata": {},
   "outputs": [],
   "source": [
    "# this is a hack to have pylance working with tensorflow and keras\n",
    "import matplotlib.pyplot as plt\n",
    "import numpy as np\n",
    "import tensorflow as tf\n",
    "from sklearn.metrics import confusion_matrix\n",
    "from sklearn.metrics import ConfusionMatrixDisplay\n",
    "keras = tf.keras"
   ]
  },
  {
   "cell_type": "markdown",
   "id": "f9cf7a45",
   "metadata": {},
   "source": [
    "## Load MNIST dataset"
   ]
  },
  {
   "cell_type": "code",
   "execution_count": 57,
   "id": "63daf38e",
   "metadata": {},
   "outputs": [],
   "source": [
    "(x_train, y_train), (x_test, y_test) = keras.datasets.mnist.load_data()"
   ]
  },
  {
   "cell_type": "markdown",
   "id": "dc496fa9",
   "metadata": {},
   "source": [
    "## Get some information"
   ]
  },
  {
   "cell_type": "code",
   "execution_count": 58,
   "id": "7e940924",
   "metadata": {},
   "outputs": [
    {
     "name": "stdout",
     "output_type": "stream",
     "text": [
      "(60000, 28, 28)\n",
      "(60000,)\n",
      "(10000, 28, 28)\n",
      "(10000,)\n"
     ]
    }
   ],
   "source": [
    "print(x_train.shape)\n",
    "print(y_train.shape)\n",
    "print(x_test.shape)\n",
    "print(y_test.shape)"
   ]
  },
  {
   "cell_type": "code",
   "execution_count": 59,
   "id": "eb0515b3",
   "metadata": {},
   "outputs": [
    {
     "data": {
      "text/plain": [
       "<matplotlib.image.AxesImage at 0x18522575700>"
      ]
     },
     "execution_count": 59,
     "metadata": {},
     "output_type": "execute_result"
    },
    {
     "data": {
      "image/png": "[encoded data removed]",
      "text/plain": [
       "<Figure size 640x480 with 1 Axes>"
      ]
     },
     "metadata": {},
     "output_type": "display_data"
    }
   ],
   "source": [
    "plt.imshow(x_train[69], cmap='Greys_r')"
   ]
  },
  {
   "cell_type": "markdown",
   "id": "88ba797d",
   "metadata": {},
   "source": [
    "## Turn number labels into categories (one-hot-encoding)\n",
    "We need to one hot encode the data"
   ]
  },
  {
   "cell_type": "code",
   "execution_count": 60,
   "id": "4297ff1e",
   "metadata": {},
   "outputs": [],
   "source": [
    "y_train_encoded = keras.utils.to_categorical(y=y_train)\n",
    "y_test_encoded = keras.utils.to_categorical(y=y_test)"
   ]
  },
  {
   "cell_type": "markdown",
   "id": "4451a0a6",
   "metadata": {},
   "source": [
    "## Scale x data"
   ]
  },
  {
   "cell_type": "code",
   "execution_count": 61,
   "id": "4504cc5a",
   "metadata": {},
   "outputs": [],
   "source": [
    "x_train_scaled = x_train/np.max(x_train)\n",
    "x_test_scaled = x_test/np.max(x_train)"
   ]
  },
  {
   "cell_type": "markdown",
   "id": "6dfbcb2a",
   "metadata": {},
   "source": [
    "## Built the model"
   ]
  },
  {
   "cell_type": "code",
   "execution_count": 62,
   "id": "50c4beb8",
   "metadata": {},
   "outputs": [
    {
     "name": "stdout",
     "output_type": "stream",
     "text": [
      "Model: \"sequential_8\"\n",
      "_________________________________________________________________\n",
      " Layer (type)                Output Shape              Param #   \n",
      "=================================================================\n",
      " conv2d_15 (Conv2D)          (None, 28, 28, 32)        320       \n",
      "                                                                 \n",
      " max_pooling2d_7 (MaxPooling  (None, 14, 14, 32)       0         \n",
      " 2D)                                                             \n",
      "                                                                 \n",
      " dropout_4 (Dropout)         (None, 14, 14, 32)        0         \n",
      "                                                                 \n",
      " conv2d_16 (Conv2D)          (None, 12, 12, 64)        18496     \n",
      "                                                                 \n",
      " flatten_7 (Flatten)         (None, 9216)              0         \n",
      "                                                                 \n",
      " dense_6 (Dense)             (None, 10)                92170     \n",
      "                                                                 \n",
      "=================================================================\n",
      "Total params: 110,986\n",
      "Trainable params: 110,986\n",
      "Non-trainable params: 0\n",
      "_________________________________________________________________\n",
      "Epoch 1/3\n",
      "1875/1875 [==============================] - 13s 7ms/step - loss: 0.1439 - accuracy: 0.9566\n",
      "Epoch 2/3\n",
      "1875/1875 [==============================] - 13s 7ms/step - loss: 0.0525 - accuracy: 0.9838\n",
      "Epoch 3/3\n",
      "1875/1875 [==============================] - 13s 7ms/step - loss: 0.0364 - accuracy: 0.9886\n"
     ]
    }
   ],
   "source": [
    "model = keras.models.Sequential()\n",
    "model.add(\n",
    "    keras.layers.Conv2D(\n",
    "        filters=32,\n",
    "        kernel_size=(3, 3),\n",
    "        padding='same',\n",
    "        activation='relu',\n",
    "        input_shape=(28, 28, 1),\n",
    "    ),\n",
    ")\n",
    "model.add(keras.layers.MaxPooling2D())\n",
    "model.add(keras.layers.Dropout(rate=0.2))\n",
    "model.add(\n",
    "    keras.layers.Conv2D(\n",
    "        filters=64,\n",
    "        kernel_size=(3, 3),\n",
    "        activation='relu',\n",
    "    ),\n",
    ")\n",
    "model.add(keras.layers.Flatten())\n",
    "# cannot be 1 since we now have 10 categories\n",
    "model.add(keras.layers.Dense(10, activation='softmax'))\n",
    "\n",
    "opt = keras.optimizers.Adam(learning_rate=0.001)\n",
    "model.compile(\n",
    "    optimizer=opt,\n",
    "    loss='categorical_crossentropy',\n",
    "    metrics=['accuracy'],\n",
    ")\n",
    "model.summary()\n",
    "\n",
    "history = model.fit(x_train_scaled, y_train_encoded, epochs=3)"
   ]
  },
  {
   "cell_type": "markdown",
   "id": "46f3711e",
   "metadata": {},
   "source": [
    "## Evaluate the model"
   ]
  },
  {
   "cell_type": "code",
   "execution_count": 63,
   "id": "cd91b1cd",
   "metadata": {},
   "outputs": [
    {
     "name": "stdout",
     "output_type": "stream",
     "text": [
      "1875/1875 [==============================] - 8s 4ms/step - loss: 0.0260 - accuracy: 0.9916\n"
     ]
    },
    {
     "data": {
      "text/plain": [
       "[0.02602243237197399, 0.9915666580200195]"
      ]
     },
     "execution_count": 63,
     "metadata": {},
     "output_type": "execute_result"
    }
   ],
   "source": [
    "# Get trainings data accuracy\n",
    "model.evaluate(x_train_scaled, y_train_encoded)"
   ]
  },
  {
   "cell_type": "code",
   "execution_count": 64,
   "id": "816654e9",
   "metadata": {},
   "outputs": [
    {
     "name": "stdout",
     "output_type": "stream",
     "text": [
      "313/313 [==============================] - 2s 5ms/step - loss: 0.0353 - accuracy: 0.9891\n"
     ]
    },
    {
     "data": {
      "text/plain": [
       "[0.03526722267270088, 0.9890999794006348]"
      ]
     },
     "execution_count": 64,
     "metadata": {},
     "output_type": "execute_result"
    }
   ],
   "source": [
    "# Get testing data accuracy\n",
    "model.evaluate(x_test_scaled, y_test_encoded)"
   ]
  },
  {
   "cell_type": "markdown",
   "id": "4060189d",
   "metadata": {},
   "source": [
    "## Check some random predicted samples"
   ]
  },
  {
   "cell_type": "code",
   "execution_count": 65,
   "id": "20b6076e",
   "metadata": {},
   "outputs": [
    {
     "name": "stdout",
     "output_type": "stream",
     "text": [
      "Real class: [0. 0. 0. 1. 0. 0. 0. 0. 0. 0.]\n",
      "Input feature:\n"
     ]
    },
    {
     "data": {
      "text/plain": [
       "<matplotlib.image.AxesImage at 0x18527663eb0>"
      ]
     },
     "execution_count": 65,
     "metadata": {},
     "output_type": "execute_result"
    },
    {
     "data": {
      "image/png": "[encoded data removed]",
      "text/plain": [
       "<Figure size 640x480 with 1 Axes>"
      ]
     },
     "metadata": {},
     "output_type": "display_data"
    }
   ],
   "source": [
    "feature = 51\n",
    "print(f'Real class: {y_test_encoded[feature]}')\n",
    "print('Input feature:')\n",
    "plt.imshow(x_test_scaled[feature, :, :])"
   ]
  },
  {
   "cell_type": "code",
   "execution_count": 66,
   "id": "eca8ab32",
   "metadata": {},
   "outputs": [
    {
     "name": "stdout",
     "output_type": "stream",
     "text": [
      "1/1 [==============================] - 0s 61ms/step\n"
     ]
    }
   ],
   "source": [
    "test_val = model.predict(x_test_scaled[feature, :, :].reshape(1, 28, 28, 1))"
   ]
  },
  {
   "cell_type": "code",
   "execution_count": 67,
   "id": "c23a772c",
   "metadata": {},
   "outputs": [
    {
     "data": {
      "text/plain": [
       "0.99999994"
      ]
     },
     "execution_count": 67,
     "metadata": {},
     "output_type": "execute_result"
    }
   ],
   "source": [
    "np.sum(test_val[0])"
   ]
  },
  {
   "cell_type": "markdown",
   "id": "96c536dd",
   "metadata": {},
   "source": [
    "## Turn prediction probabilities into a label"
   ]
  },
  {
   "cell_type": "code",
   "execution_count": 86,
   "id": "52b9809c",
   "metadata": {},
   "outputs": [
    {
     "name": "stdout",
     "output_type": "stream",
     "text": [
      "313/313 [==============================] - 1s 2ms/step\n"
     ]
    }
   ],
   "source": [
    "x_test_scaled_reshaped = x_test_scaled.reshape(10000, 28, 28, 1)\n",
    "x_test_scaled_reshaped\n",
    "y_pred = model.predict(x_test_scaled_reshaped)"
   ]
  },
  {
   "cell_type": "markdown",
   "id": "bda75542",
   "metadata": {},
   "source": [
    "## Plot confusion matrix"
   ]
  },
  {
   "cell_type": "code",
   "execution_count": 88,
   "id": "8c1e6881",
   "metadata": {},
   "outputs": [
    {
     "data": {
      "text/plain": [
       "<sklearn.metrics._plot.confusion_matrix.ConfusionMatrixDisplay at 0x18503a127f0>"
      ]
     },
     "execution_count": 88,
     "metadata": {},
     "output_type": "execute_result"
    },
    {
     "data": {
      "image/png": "[encoded data removed]",
      "text/plain": [
       "<Figure size 640x480 with 2 Axes>"
      ]
     },
     "metadata": {},
     "output_type": "display_data"
    }
   ],
   "source": [
    "y_pred_argmax = np.argmax(y_pred, axis=1)\n",
    "y_test_argmax = np.argmax(y_test_encoded, axis=1)\n",
    "\n",
    "cm = confusion_matrix(y_test_argmax, y_pred_argmax)\n",
    "\n",
    "disp = ConfusionMatrixDisplay(confusion_matrix=cm)\n",
    "\n",
    "disp.plot(cmap=plt.cm.Blues)"
   ]
  },
  {
   "cell_type": "markdown",
   "id": "ae929084",
   "metadata": {},
   "source": [
    "## The problem with Sigmoid in multiclass models\n",
    "..."
   ]
  }
 ],
 "metadata": {
  "interpreter": {
   "hash": "5a274f5bd04a396b8908bf1d1bfbb0d1e017dd743cd0931978365c9130448495"
  },
  "kernelspec": {
   "display_name": "Python 3.9.13 ('venv-tf')",
   "language": "python",
   "name": "python3"
  },
  "language_info": {
   "codemirror_mode": {
    "name": "ipython",
    "version": 3
   },
   "file_extension": ".py",
   "mimetype": "text/x-python",
   "name": "python",
   "nbconvert_exporter": "python",
   "pygments_lexer": "ipython3",
   "version": "3.9.13"
  }
 },
 "nbformat": 4,
 "nbformat_minor": 5
}
