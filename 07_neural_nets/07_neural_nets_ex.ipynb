{
 "cells": [
  {
   "cell_type": "code",
   "execution_count": null,
   "id": "47a4e81e",
   "metadata": {},
   "outputs": [],
   "source": [
    "# disable GPU since VM has no passthrough\n",
    "import os\n",
    "\n",
    "import matplotlib.pyplot as plt\n",
    "import pandas as pd\n",
    "from sklearn.model_selection import train_test_split\n",
    "\n",
    "try:  # not import, not whitespace\n",
    "    os.environ['CUDA_VISIBLE_DEVICES'] = '-1'\n",
    "    from tensorflow import keras\n",
    "    import tensorflow as tf\n",
    "except ImportError:\n",
    "    pass"
   ]
  },
  {
   "cell_type": "markdown",
   "id": "d44e4035",
   "metadata": {},
   "source": [
    "## Load the data"
   ]
  },
  {
   "cell_type": "code",
   "execution_count": 2,
   "id": "c040f385",
   "metadata": {},
   "outputs": [],
   "source": [
    "data = pd.read_csv('../data/Regression_Ruhr.csv', sep=';')"
   ]
  },
  {
   "cell_type": "markdown",
   "id": "6e164931",
   "metadata": {},
   "source": [
    "## Shift the runoff and drop na"
   ]
  },
  {
   "cell_type": "code",
   "execution_count": 3,
   "id": "54cae26b",
   "metadata": {},
   "outputs": [],
   "source": [
    "data['Abfluss[Q]'] = data['Abfluss[Q]'].shift(-1)\n",
    "data = data.dropna()"
   ]
  },
  {
   "cell_type": "markdown",
   "id": "fc56d289",
   "metadata": {},
   "source": [
    "## Divide into x and y"
   ]
  },
  {
   "cell_type": "code",
   "execution_count": 4,
   "id": "26dd3db2",
   "metadata": {},
   "outputs": [],
   "source": [
    "x = data.iloc[:, 2:]\n",
    "y = data.iloc[:, 1]"
   ]
  },
  {
   "cell_type": "markdown",
   "id": "4b52893b",
   "metadata": {},
   "source": [
    "## Divide into train test"
   ]
  },
  {
   "cell_type": "code",
   "execution_count": 5,
   "id": "88acb950",
   "metadata": {},
   "outputs": [],
   "source": [
    "x_train, x_test, y_train, y_test = train_test_split(\n",
    "    x, y,\n",
    "    test_size=0.2,\n",
    "    random_state=42,\n",
    ")"
   ]
  },
  {
   "cell_type": "markdown",
   "id": "b943122f",
   "metadata": {},
   "source": [
    "## Create normalisation layer"
   ]
  },
  {
   "cell_type": "code",
   "execution_count": null,
   "id": "47072b39",
   "metadata": {},
   "outputs": [],
   "source": [
    "norm_layer = tf.keras.layers.experimental.preprocessing.Normalization()\n",
    "norm_layer.adapt(x_train)"
   ]
  },
  {
   "cell_type": "markdown",
   "id": "2c6290a0",
   "metadata": {},
   "source": [
    "## Create model"
   ]
  },
  {
   "cell_type": "code",
   "execution_count": null,
   "id": "3bbaf3bc",
   "metadata": {},
   "outputs": [],
   "source": [
    "model = keras.models.Sequential()\n",
    "model.add(norm_layer)\n",
    "model.add(\n",
    "    keras.layers.Dense(\n",
    "        64,\n",
    "        activation='sigmoid',\n",
    "        input_shape=(x_train.shape[1],),\n",
    "    ),\n",
    ")\n",
    "model.add(\n",
    "    keras.layers.Dense(\n",
    "        128,\n",
    "        activation='sigmoid',\n",
    "        input_shape=(x_train.shape[1],),\n",
    "    ),\n",
    ")\n",
    "model.add(keras.layers.Dense(1, input_shape=(x_train.shape[1],)))\n",
    "\n",
    "optimizer = keras.optimizers.SGD(learning_rate=0.002)\n",
    "model.compile(optimizer=optimizer, loss='mean_squared_error')\n",
    "\n",
    "history = model.fit(x_train, y_train, epochs=1000)"
   ]
  },
  {
   "cell_type": "code",
   "execution_count": 8,
   "id": "521ca824",
   "metadata": {},
   "outputs": [
    {
     "data": {
      "text/plain": [
       "28.78748893737793"
      ]
     },
     "execution_count": 8,
     "metadata": {},
     "output_type": "execute_result"
    }
   ],
   "source": [
    "history.history['loss'][-1]"
   ]
  },
  {
   "cell_type": "markdown",
   "id": "e5934e44",
   "metadata": {},
   "source": [
    "## Plot loss"
   ]
  },
  {
   "cell_type": "code",
   "execution_count": 9,
   "id": "17fa9852",
   "metadata": {},
   "outputs": [
    {
     "data": {
      "text/plain": [
       "[<matplotlib.lines.Line2D at 0x7ff84f0fa730>]"
      ]
     },
     "execution_count": 9,
     "metadata": {},
     "output_type": "execute_result"
    },
    {
     "data": {
      "image/png": "[encoded data removed]",
      "text/plain": [
       "<Figure size 640x480 with 1 Axes>"
      ]
     },
     "metadata": {},
     "output_type": "display_data"
    }
   ],
   "source": [
    "plt.plot(history.history['loss'])"
   ]
  },
  {
   "cell_type": "markdown",
   "id": "aac7b14b",
   "metadata": {},
   "source": [
    "## compare predicted vs. actual"
   ]
  },
  {
   "cell_type": "code",
   "execution_count": 10,
   "id": "bf4349fe",
   "metadata": {},
   "outputs": [
    {
     "name": "stdout",
     "output_type": "stream",
     "text": [
      "1/1 [==============================] - 0s 109ms/step\n",
      "predicted:  46.3, but actually it was: 52.2\n"
     ]
    }
   ],
   "source": [
    "pos = 10\n",
    "point = x_test.iloc[pos].values.reshape(1, -1)\n",
    "predicted = model.predict(point)[0][0]\n",
    "actual = y_test.iloc[pos]\n",
    "print(f'predicted:  {predicted:.1f}, but actually it was: {actual}')"
   ]
  }
 ],
 "metadata": {
  "kernelspec": {
   "display_name": "Python 3.9.15 ('venv': venv)",
   "language": "python",
   "name": "python3"
  },
  "language_info": {
   "codemirror_mode": {
    "name": "ipython",
    "version": 3
   },
   "file_extension": ".py",
   "mimetype": "text/x-python",
   "name": "python",
   "nbconvert_exporter": "python",
   "pygments_lexer": "ipython3",
   "version": "3.9.15"
  },
  "vscode": {
   "interpreter": {
    "hash": "ad2c4701e7035aba853efbbfd5eb25f191458bb018cce931b41cba6962e4f15c"
   }
  }
 },
 "nbformat": 4,
 "nbformat_minor": 5
}
