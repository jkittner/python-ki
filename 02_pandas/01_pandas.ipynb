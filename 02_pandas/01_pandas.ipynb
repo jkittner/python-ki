{
 "cells": [
  {
   "cell_type": "code",
   "execution_count": 38,
   "metadata": {},
   "outputs": [],
   "source": [
    "import numpy as np\n",
    "import pandas as pd"
   ]
  },
  {
   "cell_type": "code",
   "execution_count": 39,
   "metadata": {},
   "outputs": [],
   "source": [
    "labels = ['Bochum', 'Essen', 'Dortmund']\n",
    "population = [364628, 583109, 587010]"
   ]
  },
  {
   "cell_type": "code",
   "execution_count": 40,
   "metadata": {},
   "outputs": [
    {
     "data": {
      "text/plain": [
       "array([364628, 583109, 587010])"
      ]
     },
     "execution_count": 40,
     "metadata": {},
     "output_type": "execute_result"
    }
   ],
   "source": [
    "arr = np.array(population)\n",
    "arr"
   ]
  },
  {
   "cell_type": "code",
   "execution_count": 41,
   "metadata": {},
   "outputs": [],
   "source": [
    "d = {'Bochum': 364628, 'Essen': 583109, 'Dortmund': 587010}"
   ]
  },
  {
   "cell_type": "markdown",
   "metadata": {},
   "source": [
    "### in pandas"
   ]
  },
  {
   "cell_type": "code",
   "execution_count": 42,
   "metadata": {},
   "outputs": [
    {
     "data": {
      "text/plain": [
       "0    364628\n",
       "1    583109\n",
       "2    587010\n",
       "dtype: int64"
      ]
     },
     "execution_count": 42,
     "metadata": {},
     "output_type": "execute_result"
    }
   ],
   "source": [
    "pd.Series(data=population)"
   ]
  },
  {
   "cell_type": "code",
   "execution_count": 43,
   "metadata": {},
   "outputs": [
    {
     "data": {
      "text/plain": [
       "Bochum      364628\n",
       "Essen       583109\n",
       "Dortmund    587010\n",
       "dtype: int64"
      ]
     },
     "execution_count": 43,
     "metadata": {},
     "output_type": "execute_result"
    }
   ],
   "source": [
    "# index\n",
    "pop_series = pd.Series(data=population, index=labels)\n",
    "pop_series"
   ]
  },
  {
   "cell_type": "code",
   "execution_count": 44,
   "metadata": {},
   "outputs": [
    {
     "data": {
      "text/plain": [
       "364628"
      ]
     },
     "execution_count": 44,
     "metadata": {},
     "output_type": "execute_result"
    }
   ],
   "source": [
    "# selection\n",
    "pop_series['Bochum']"
   ]
  },
  {
   "cell_type": "markdown",
   "metadata": {},
   "source": [
    "### `pandas.DataFrame`"
   ]
  },
  {
   "cell_type": "code",
   "execution_count": 45,
   "metadata": {},
   "outputs": [
    {
     "data": {
      "text/plain": [
       "array([[-0.16751219, -1.36155327,  0.41191597, -1.02894864],\n",
       "       [ 0.53129202, -0.40884801,  1.29984518, -1.54917443],\n",
       "       [-0.23509477,  0.75273601,  0.05969593,  1.58764849],\n",
       "       [-0.16499197, -0.64795983,  0.41177039,  0.82951455],\n",
       "       [ 1.32913502, -0.32273494,  1.66902992, -1.26295809]])"
      ]
     },
     "execution_count": 45,
     "metadata": {},
     "output_type": "execute_result"
    }
   ],
   "source": [
    "rand_arr = np.random.randn(5, 4)\n",
    "rand_arr"
   ]
  },
  {
   "cell_type": "code",
   "execution_count": 46,
   "metadata": {},
   "outputs": [
    {
     "data": {
      "text/html": [
       "<div>\n",
       "<style scoped>\n",
       "    .dataframe tbody tr th:only-of-type {\n",
       "        vertical-align: middle;\n",
       "    }\n",
       "\n",
       "    .dataframe tbody tr th {\n",
       "        vertical-align: top;\n",
       "    }\n",
       "\n",
       "    .dataframe thead th {\n",
       "        text-align: right;\n",
       "    }\n",
       "</style>\n",
       "<table border=\"1\" class=\"dataframe\">\n",
       "  <thead>\n",
       "    <tr style=\"text-align: right;\">\n",
       "      <th></th>\n",
       "      <th>W</th>\n",
       "      <th>X</th>\n",
       "      <th>Y</th>\n",
       "      <th>Z</th>\n",
       "    </tr>\n",
       "  </thead>\n",
       "  <tbody>\n",
       "    <tr>\n",
       "      <th>A</th>\n",
       "      <td>-0.167512</td>\n",
       "      <td>-1.361553</td>\n",
       "      <td>0.411916</td>\n",
       "      <td>-1.028949</td>\n",
       "    </tr>\n",
       "    <tr>\n",
       "      <th>B</th>\n",
       "      <td>0.531292</td>\n",
       "      <td>-0.408848</td>\n",
       "      <td>1.299845</td>\n",
       "      <td>-1.549174</td>\n",
       "    </tr>\n",
       "    <tr>\n",
       "      <th>C</th>\n",
       "      <td>-0.235095</td>\n",
       "      <td>0.752736</td>\n",
       "      <td>0.059696</td>\n",
       "      <td>1.587648</td>\n",
       "    </tr>\n",
       "    <tr>\n",
       "      <th>D</th>\n",
       "      <td>-0.164992</td>\n",
       "      <td>-0.647960</td>\n",
       "      <td>0.411770</td>\n",
       "      <td>0.829515</td>\n",
       "    </tr>\n",
       "    <tr>\n",
       "      <th>E</th>\n",
       "      <td>1.329135</td>\n",
       "      <td>-0.322735</td>\n",
       "      <td>1.669030</td>\n",
       "      <td>-1.262958</td>\n",
       "    </tr>\n",
       "  </tbody>\n",
       "</table>\n",
       "</div>"
      ],
      "text/plain": [
       "          W         X         Y         Z\n",
       "A -0.167512 -1.361553  0.411916 -1.028949\n",
       "B  0.531292 -0.408848  1.299845 -1.549174\n",
       "C -0.235095  0.752736  0.059696  1.587648\n",
       "D -0.164992 -0.647960  0.411770  0.829515\n",
       "E  1.329135 -0.322735  1.669030 -1.262958"
      ]
     },
     "execution_count": 46,
     "metadata": {},
     "output_type": "execute_result"
    }
   ],
   "source": [
    "idx = ['A', 'B', 'C', 'D', 'E']\n",
    "columns = ['W', 'X', 'Y', 'Z']\n",
    "df = pd.DataFrame(data=rand_arr, index=idx, columns=columns)\n",
    "df"
   ]
  },
  {
   "cell_type": "markdown",
   "metadata": {},
   "source": [
    "### select columns from `pandas.DataFrame`"
   ]
  },
  {
   "cell_type": "code",
   "execution_count": 47,
   "metadata": {},
   "outputs": [
    {
     "name": "stdout",
     "output_type": "stream",
     "text": [
      "A   -0.167512\n",
      "B    0.531292\n",
      "C   -0.235095\n",
      "D   -0.164992\n",
      "E    1.329135\n",
      "Name: W, dtype: float64\n",
      "<class 'pandas.core.series.Series'>\n"
     ]
    }
   ],
   "source": [
    "# select a column\n",
    "print(df['W'])\n",
    "print(type(df['W']))"
   ]
  },
  {
   "cell_type": "code",
   "execution_count": 48,
   "metadata": {},
   "outputs": [
    {
     "name": "stdout",
     "output_type": "stream",
     "text": [
      "          W         X\n",
      "A -0.167512 -1.361553\n",
      "B  0.531292 -0.408848\n",
      "C -0.235095  0.752736\n",
      "D -0.164992 -0.647960\n",
      "E  1.329135 -0.322735\n",
      "<class 'pandas.core.frame.DataFrame'>\n"
     ]
    }
   ],
   "source": [
    "print(df[['W', 'X']])\n",
    "print(type(df[['W', 'X']]))"
   ]
  },
  {
   "cell_type": "markdown",
   "metadata": {},
   "source": [
    "### select rows from `pandas.DataFrame`"
   ]
  },
  {
   "cell_type": "code",
   "execution_count": 49,
   "metadata": {},
   "outputs": [
    {
     "name": "stdout",
     "output_type": "stream",
     "text": [
      "W   -0.167512\n",
      "X   -1.361553\n",
      "Y    0.411916\n",
      "Z   -1.028949\n",
      "Name: A, dtype: float64\n",
      "<class 'pandas.core.series.Series'>\n"
     ]
    }
   ],
   "source": [
    "sel = df.loc['A']\n",
    "print(sel)\n",
    "print(type(sel))"
   ]
  },
  {
   "cell_type": "code",
   "execution_count": 50,
   "metadata": {},
   "outputs": [
    {
     "data": {
      "text/plain": [
       "W   -0.167512\n",
       "X   -1.361553\n",
       "Y    0.411916\n",
       "Z   -1.028949\n",
       "Name: A, dtype: float64"
      ]
     },
     "execution_count": 50,
     "metadata": {},
     "output_type": "execute_result"
    }
   ],
   "source": [
    "df.iloc[0]"
   ]
  },
  {
   "cell_type": "code",
   "execution_count": 51,
   "metadata": {},
   "outputs": [
    {
     "data": {
      "text/html": [
       "<div>\n",
       "<style scoped>\n",
       "    .dataframe tbody tr th:only-of-type {\n",
       "        vertical-align: middle;\n",
       "    }\n",
       "\n",
       "    .dataframe tbody tr th {\n",
       "        vertical-align: top;\n",
       "    }\n",
       "\n",
       "    .dataframe thead th {\n",
       "        text-align: right;\n",
       "    }\n",
       "</style>\n",
       "<table border=\"1\" class=\"dataframe\">\n",
       "  <thead>\n",
       "    <tr style=\"text-align: right;\">\n",
       "      <th></th>\n",
       "      <th>W</th>\n",
       "      <th>X</th>\n",
       "      <th>Y</th>\n",
       "      <th>Z</th>\n",
       "    </tr>\n",
       "  </thead>\n",
       "  <tbody>\n",
       "    <tr>\n",
       "      <th>A</th>\n",
       "      <td>-0.167512</td>\n",
       "      <td>-1.361553</td>\n",
       "      <td>0.411916</td>\n",
       "      <td>-1.028949</td>\n",
       "    </tr>\n",
       "    <tr>\n",
       "      <th>B</th>\n",
       "      <td>0.531292</td>\n",
       "      <td>-0.408848</td>\n",
       "      <td>1.299845</td>\n",
       "      <td>-1.549174</td>\n",
       "    </tr>\n",
       "  </tbody>\n",
       "</table>\n",
       "</div>"
      ],
      "text/plain": [
       "          W         X         Y         Z\n",
       "A -0.167512 -1.361553  0.411916 -1.028949\n",
       "B  0.531292 -0.408848  1.299845 -1.549174"
      ]
     },
     "execution_count": 51,
     "metadata": {},
     "output_type": "execute_result"
    }
   ],
   "source": [
    "df.loc[['A', 'B']]"
   ]
  },
  {
   "cell_type": "code",
   "execution_count": 52,
   "metadata": {},
   "outputs": [
    {
     "data": {
      "text/html": [
       "<div>\n",
       "<style scoped>\n",
       "    .dataframe tbody tr th:only-of-type {\n",
       "        vertical-align: middle;\n",
       "    }\n",
       "\n",
       "    .dataframe tbody tr th {\n",
       "        vertical-align: top;\n",
       "    }\n",
       "\n",
       "    .dataframe thead th {\n",
       "        text-align: right;\n",
       "    }\n",
       "</style>\n",
       "<table border=\"1\" class=\"dataframe\">\n",
       "  <thead>\n",
       "    <tr style=\"text-align: right;\">\n",
       "      <th></th>\n",
       "      <th>W</th>\n",
       "      <th>X</th>\n",
       "    </tr>\n",
       "  </thead>\n",
       "  <tbody>\n",
       "    <tr>\n",
       "      <th>A</th>\n",
       "      <td>-0.167512</td>\n",
       "      <td>-1.361553</td>\n",
       "    </tr>\n",
       "    <tr>\n",
       "      <th>B</th>\n",
       "      <td>0.531292</td>\n",
       "      <td>-0.408848</td>\n",
       "    </tr>\n",
       "  </tbody>\n",
       "</table>\n",
       "</div>"
      ],
      "text/plain": [
       "          W         X\n",
       "A -0.167512 -1.361553\n",
       "B  0.531292 -0.408848"
      ]
     },
     "execution_count": 52,
     "metadata": {},
     "output_type": "execute_result"
    }
   ],
   "source": [
    "df.loc[['A', 'B'], ['W', 'X']]"
   ]
  },
  {
   "cell_type": "markdown",
   "metadata": {},
   "source": [
    "### add columns"
   ]
  },
  {
   "cell_type": "code",
   "execution_count": 53,
   "metadata": {},
   "outputs": [
    {
     "data": {
      "text/html": [
       "<div>\n",
       "<style scoped>\n",
       "    .dataframe tbody tr th:only-of-type {\n",
       "        vertical-align: middle;\n",
       "    }\n",
       "\n",
       "    .dataframe tbody tr th {\n",
       "        vertical-align: top;\n",
       "    }\n",
       "\n",
       "    .dataframe thead th {\n",
       "        text-align: right;\n",
       "    }\n",
       "</style>\n",
       "<table border=\"1\" class=\"dataframe\">\n",
       "  <thead>\n",
       "    <tr style=\"text-align: right;\">\n",
       "      <th></th>\n",
       "      <th>W</th>\n",
       "      <th>X</th>\n",
       "      <th>Y</th>\n",
       "      <th>Z</th>\n",
       "      <th>new</th>\n",
       "    </tr>\n",
       "  </thead>\n",
       "  <tbody>\n",
       "    <tr>\n",
       "      <th>A</th>\n",
       "      <td>-0.167512</td>\n",
       "      <td>-1.361553</td>\n",
       "      <td>0.411916</td>\n",
       "      <td>-1.028949</td>\n",
       "      <td>-2.390502</td>\n",
       "    </tr>\n",
       "    <tr>\n",
       "      <th>B</th>\n",
       "      <td>0.531292</td>\n",
       "      <td>-0.408848</td>\n",
       "      <td>1.299845</td>\n",
       "      <td>-1.549174</td>\n",
       "      <td>-1.958022</td>\n",
       "    </tr>\n",
       "    <tr>\n",
       "      <th>C</th>\n",
       "      <td>-0.235095</td>\n",
       "      <td>0.752736</td>\n",
       "      <td>0.059696</td>\n",
       "      <td>1.587648</td>\n",
       "      <td>2.340384</td>\n",
       "    </tr>\n",
       "    <tr>\n",
       "      <th>D</th>\n",
       "      <td>-0.164992</td>\n",
       "      <td>-0.647960</td>\n",
       "      <td>0.411770</td>\n",
       "      <td>0.829515</td>\n",
       "      <td>0.181555</td>\n",
       "    </tr>\n",
       "    <tr>\n",
       "      <th>E</th>\n",
       "      <td>1.329135</td>\n",
       "      <td>-0.322735</td>\n",
       "      <td>1.669030</td>\n",
       "      <td>-1.262958</td>\n",
       "      <td>-1.585693</td>\n",
       "    </tr>\n",
       "  </tbody>\n",
       "</table>\n",
       "</div>"
      ],
      "text/plain": [
       "          W         X         Y         Z       new\n",
       "A -0.167512 -1.361553  0.411916 -1.028949 -2.390502\n",
       "B  0.531292 -0.408848  1.299845 -1.549174 -1.958022\n",
       "C -0.235095  0.752736  0.059696  1.587648  2.340384\n",
       "D -0.164992 -0.647960  0.411770  0.829515  0.181555\n",
       "E  1.329135 -0.322735  1.669030 -1.262958 -1.585693"
      ]
     },
     "execution_count": 53,
     "metadata": {},
     "output_type": "execute_result"
    }
   ],
   "source": [
    "df['new'] = df['X'] + df['Z']\n",
    "df"
   ]
  },
  {
   "cell_type": "markdown",
   "metadata": {},
   "source": [
    "### remove columns and rows"
   ]
  },
  {
   "cell_type": "code",
   "execution_count": 54,
   "metadata": {},
   "outputs": [
    {
     "data": {
      "text/html": [
       "<div>\n",
       "<style scoped>\n",
       "    .dataframe tbody tr th:only-of-type {\n",
       "        vertical-align: middle;\n",
       "    }\n",
       "\n",
       "    .dataframe tbody tr th {\n",
       "        vertical-align: top;\n",
       "    }\n",
       "\n",
       "    .dataframe thead th {\n",
       "        text-align: right;\n",
       "    }\n",
       "</style>\n",
       "<table border=\"1\" class=\"dataframe\">\n",
       "  <thead>\n",
       "    <tr style=\"text-align: right;\">\n",
       "      <th></th>\n",
       "      <th>W</th>\n",
       "      <th>X</th>\n",
       "      <th>Y</th>\n",
       "      <th>Z</th>\n",
       "    </tr>\n",
       "  </thead>\n",
       "  <tbody>\n",
       "    <tr>\n",
       "      <th>A</th>\n",
       "      <td>-0.167512</td>\n",
       "      <td>-1.361553</td>\n",
       "      <td>0.411916</td>\n",
       "      <td>-1.028949</td>\n",
       "    </tr>\n",
       "    <tr>\n",
       "      <th>B</th>\n",
       "      <td>0.531292</td>\n",
       "      <td>-0.408848</td>\n",
       "      <td>1.299845</td>\n",
       "      <td>-1.549174</td>\n",
       "    </tr>\n",
       "    <tr>\n",
       "      <th>C</th>\n",
       "      <td>-0.235095</td>\n",
       "      <td>0.752736</td>\n",
       "      <td>0.059696</td>\n",
       "      <td>1.587648</td>\n",
       "    </tr>\n",
       "    <tr>\n",
       "      <th>D</th>\n",
       "      <td>-0.164992</td>\n",
       "      <td>-0.647960</td>\n",
       "      <td>0.411770</td>\n",
       "      <td>0.829515</td>\n",
       "    </tr>\n",
       "    <tr>\n",
       "      <th>E</th>\n",
       "      <td>1.329135</td>\n",
       "      <td>-0.322735</td>\n",
       "      <td>1.669030</td>\n",
       "      <td>-1.262958</td>\n",
       "    </tr>\n",
       "  </tbody>\n",
       "</table>\n",
       "</div>"
      ],
      "text/plain": [
       "          W         X         Y         Z\n",
       "A -0.167512 -1.361553  0.411916 -1.028949\n",
       "B  0.531292 -0.408848  1.299845 -1.549174\n",
       "C -0.235095  0.752736  0.059696  1.587648\n",
       "D -0.164992 -0.647960  0.411770  0.829515\n",
       "E  1.329135 -0.322735  1.669030 -1.262958"
      ]
     },
     "execution_count": 54,
     "metadata": {},
     "output_type": "execute_result"
    }
   ],
   "source": [
    "df.drop('new', axis=1, inplace=True)\n",
    "df"
   ]
  },
  {
   "cell_type": "code",
   "execution_count": 55,
   "metadata": {},
   "outputs": [
    {
     "data": {
      "text/html": [
       "<div>\n",
       "<style scoped>\n",
       "    .dataframe tbody tr th:only-of-type {\n",
       "        vertical-align: middle;\n",
       "    }\n",
       "\n",
       "    .dataframe tbody tr th {\n",
       "        vertical-align: top;\n",
       "    }\n",
       "\n",
       "    .dataframe thead th {\n",
       "        text-align: right;\n",
       "    }\n",
       "</style>\n",
       "<table border=\"1\" class=\"dataframe\">\n",
       "  <thead>\n",
       "    <tr style=\"text-align: right;\">\n",
       "      <th></th>\n",
       "      <th>W</th>\n",
       "      <th>X</th>\n",
       "      <th>Y</th>\n",
       "      <th>Z</th>\n",
       "    </tr>\n",
       "  </thead>\n",
       "  <tbody>\n",
       "    <tr>\n",
       "      <th>A</th>\n",
       "      <td>-0.167512</td>\n",
       "      <td>-1.361553</td>\n",
       "      <td>0.411916</td>\n",
       "      <td>-1.028949</td>\n",
       "    </tr>\n",
       "    <tr>\n",
       "      <th>B</th>\n",
       "      <td>0.531292</td>\n",
       "      <td>-0.408848</td>\n",
       "      <td>1.299845</td>\n",
       "      <td>-1.549174</td>\n",
       "    </tr>\n",
       "    <tr>\n",
       "      <th>C</th>\n",
       "      <td>-0.235095</td>\n",
       "      <td>0.752736</td>\n",
       "      <td>0.059696</td>\n",
       "      <td>1.587648</td>\n",
       "    </tr>\n",
       "    <tr>\n",
       "      <th>D</th>\n",
       "      <td>-0.164992</td>\n",
       "      <td>-0.647960</td>\n",
       "      <td>0.411770</td>\n",
       "      <td>0.829515</td>\n",
       "    </tr>\n",
       "  </tbody>\n",
       "</table>\n",
       "</div>"
      ],
      "text/plain": [
       "          W         X         Y         Z\n",
       "A -0.167512 -1.361553  0.411916 -1.028949\n",
       "B  0.531292 -0.408848  1.299845 -1.549174\n",
       "C -0.235095  0.752736  0.059696  1.587648\n",
       "D -0.164992 -0.647960  0.411770  0.829515"
      ]
     },
     "execution_count": 55,
     "metadata": {},
     "output_type": "execute_result"
    }
   ],
   "source": [
    "# default arg of axis is 0\n",
    "df.drop('E', inplace=True)\n",
    "df"
   ]
  }
 ],
 "metadata": {
  "interpreter": {
   "hash": "767b4ef70d2d469ee8d6f3b97cb5a2036aeb9a23853939f9cd1aba527d11733c"
  },
  "kernelspec": {
   "display_name": "Python 3.9.13 ('venv')",
   "language": "python",
   "name": "python3"
  },
  "language_info": {
   "codemirror_mode": {
    "name": "ipython",
    "version": 3
   },
   "file_extension": ".py",
   "mimetype": "text/x-python",
   "name": "python",
   "nbconvert_exporter": "python",
   "pygments_lexer": "ipython3",
   "version": "3.9.13"
  },
  "orig_nbformat": 4
 },
 "nbformat": 4,
 "nbformat_minor": 2
}
